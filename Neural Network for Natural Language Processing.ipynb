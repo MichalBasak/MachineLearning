{
 "cells": [
  {
   "cell_type": "markdown",
   "metadata": {
    "colab_type": "text",
    "id": "5DJR2EgvnHKj"
   },
   "source": [
    "# Neural Network for Natural Language Processing"
   ]
  },
  {
   "cell_type": "markdown",
   "metadata": {
    "colab_type": "text",
    "id": "lpb3twkJnHKm"
   },
   "source": [
    "In this project, I am about to present basic neural network usage for sentiment analysis task. In this relatively short Natural Language Processing example, I will work on <a href=\"http://ai.stanford.edu/~amaas/data/sentiment/\">IMDB Dataset</a>, provided by <i>Stanford Artificial Intelligence Laboratory</i>. It consists of 50,000 movie reviews. The aim of the prediction is to correctly classify reviews as negative or positive. Here, I am going to use TensorFlow and Keras to build the neural network. All the computations will be held in Google Colab."
   ]
  },
  {
   "cell_type": "markdown",
   "metadata": {
    "colab_type": "text",
    "id": "N2phbYcwnHKn"
   },
   "source": [
    "Firstly, since this work will be performed in Google Colab, I need to mount Google Drive to access the dataset."
   ]
  },
  {
   "cell_type": "code",
   "execution_count": 1,
   "metadata": {
    "colab": {
     "base_uri": "https://localhost:8080/",
     "height": 122
    },
    "colab_type": "code",
    "id": "KMOKXtnPEBOU",
    "outputId": "67f93d5d-d2f3-4c3a-b625-ce447bff17fd"
   },
   "outputs": [
    {
     "name": "stdout",
     "output_type": "stream",
     "text": [
      "Go to this URL in a browser: https://accounts.google.com/o/oauth2/auth?client_id=947318989803-6bn6qk8qdgf4n4g3pfee6491hc0brc4i.apps.googleusercontent.com&redirect_uri=urn%3aietf%3awg%3aoauth%3a2.0%3aoob&response_type=code&scope=email%20https%3a%2f%2fwww.googleapis.com%2fauth%2fdocs.test%20https%3a%2f%2fwww.googleapis.com%2fauth%2fdrive%20https%3a%2f%2fwww.googleapis.com%2fauth%2fdrive.photos.readonly%20https%3a%2f%2fwww.googleapis.com%2fauth%2fpeopleapi.readonly\n",
      "\n",
      "Enter your authorization code:\n",
      "··········\n",
      "Mounted at /content/gdrive\n"
     ]
    }
   ],
   "source": [
    "from google.colab import drive\n",
    "drive.mount('/content/gdrive')"
   ]
  },
  {
   "cell_type": "markdown",
   "metadata": {
    "colab_type": "text",
    "id": "xJpSRJ7jnHKv"
   },
   "source": [
    "Next, we need to import all the necessary libraries."
   ]
  },
  {
   "cell_type": "code",
   "execution_count": 2,
   "metadata": {
    "_cell_guid": "b1076dfc-b9ad-4769-8c92-a6c4dae69d19",
    "_uuid": "8f2839f25d086af736a60e9eeb907d3b93b6e0e5",
    "colab": {
     "base_uri": "https://localhost:8080/",
     "height": 63
    },
    "colab_type": "code",
    "id": "6Gnr7DzkbVsV",
    "outputId": "d606d990-7b11-4163-8c64-8b993f0d5fee"
   },
   "outputs": [
    {
     "data": {
      "text/html": [
       "<p style=\"color: red;\">\n",
       "The default version of TensorFlow in Colab will soon switch to TensorFlow 2.x.<br>\n",
       "We recommend you <a href=\"https://www.tensorflow.org/guide/migrate\" target=\"_blank\">upgrade</a> now \n",
       "or ensure your notebook will continue to use TensorFlow 1.x via the <code>%tensorflow_version 1.x</code> magic:\n",
       "<a href=\"https://colab.research.google.com/notebooks/tensorflow_version.ipynb\" target=\"_blank\">more info</a>.</p>\n"
      ],
      "text/plain": [
       "<IPython.core.display.HTML object>"
      ]
     },
     "metadata": {
      "tags": []
     },
     "output_type": "display_data"
    }
   ],
   "source": [
    "import numpy as np\n",
    "import pandas as pd\n",
    "import tensorflow as tf\n",
    "import matplotlib.pyplot as plt\n",
    "from tensorflow.keras.preprocessing.text import Tokenizer\n",
    "from tensorflow.keras.preprocessing.sequence import pad_sequences\n",
    "from tensorflow.keras.optimizers import Adam\n",
    "from tensorflow.keras.callbacks import LearningRateScheduler\n",
    "from sklearn.model_selection import train_test_split\n",
    "from sklearn import preprocessing\n",
    "from collections import Counter"
   ]
  },
  {
   "cell_type": "markdown",
   "metadata": {
    "colab_type": "text",
    "id": "Li75TbPRnHK2"
   },
   "source": [
    "Now we can load the dataset and make a quick overview of the first 5 rows."
   ]
  },
  {
   "cell_type": "code",
   "execution_count": 0,
   "metadata": {
    "_cell_guid": "79c7e3d0-c299-4dcb-8224-4455121ee9b0",
    "_uuid": "d629ff2d2480ee46fbb7e2d37f6b5fab8052498a",
    "colab": {},
    "colab_type": "code",
    "id": "ChqgkJDObVtQ"
   },
   "outputs": [],
   "source": [
    "df = pd.read_csv(\"/content/gdrive/My Drive/IMDB Dataset.csv\")"
   ]
  },
  {
   "cell_type": "code",
   "execution_count": 4,
   "metadata": {
    "colab": {
     "base_uri": "https://localhost:8080/",
     "height": 204
    },
    "colab_type": "code",
    "id": "2FHCTZgmbVtb",
    "outputId": "a6c95141-08ff-4d8c-91fe-5396929d7dc6"
   },
   "outputs": [
    {
     "data": {
      "text/html": [
       "<div>\n",
       "<style scoped>\n",
       "    .dataframe tbody tr th:only-of-type {\n",
       "        vertical-align: middle;\n",
       "    }\n",
       "\n",
       "    .dataframe tbody tr th {\n",
       "        vertical-align: top;\n",
       "    }\n",
       "\n",
       "    .dataframe thead th {\n",
       "        text-align: right;\n",
       "    }\n",
       "</style>\n",
       "<table border=\"1\" class=\"dataframe\">\n",
       "  <thead>\n",
       "    <tr style=\"text-align: right;\">\n",
       "      <th></th>\n",
       "      <th>review</th>\n",
       "      <th>sentiment</th>\n",
       "    </tr>\n",
       "  </thead>\n",
       "  <tbody>\n",
       "    <tr>\n",
       "      <th>0</th>\n",
       "      <td>One of the other reviewers has mentioned that ...</td>\n",
       "      <td>positive</td>\n",
       "    </tr>\n",
       "    <tr>\n",
       "      <th>1</th>\n",
       "      <td>A wonderful little production. &lt;br /&gt;&lt;br /&gt;The...</td>\n",
       "      <td>positive</td>\n",
       "    </tr>\n",
       "    <tr>\n",
       "      <th>2</th>\n",
       "      <td>I thought this was a wonderful way to spend ti...</td>\n",
       "      <td>positive</td>\n",
       "    </tr>\n",
       "    <tr>\n",
       "      <th>3</th>\n",
       "      <td>Basically there's a family where a little boy ...</td>\n",
       "      <td>negative</td>\n",
       "    </tr>\n",
       "    <tr>\n",
       "      <th>4</th>\n",
       "      <td>Petter Mattei's \"Love in the Time of Money\" is...</td>\n",
       "      <td>positive</td>\n",
       "    </tr>\n",
       "  </tbody>\n",
       "</table>\n",
       "</div>"
      ],
      "text/plain": [
       "                                              review sentiment\n",
       "0  One of the other reviewers has mentioned that ...  positive\n",
       "1  A wonderful little production. <br /><br />The...  positive\n",
       "2  I thought this was a wonderful way to spend ti...  positive\n",
       "3  Basically there's a family where a little boy ...  negative\n",
       "4  Petter Mattei's \"Love in the Time of Money\" is...  positive"
      ]
     },
     "execution_count": 4,
     "metadata": {
      "tags": []
     },
     "output_type": "execute_result"
    }
   ],
   "source": [
    "df.head()"
   ]
  },
  {
   "cell_type": "markdown",
   "metadata": {
    "colab_type": "text",
    "id": "bik3G1KAnHLC"
   },
   "source": [
    "As we can see, there is one column with movie review and the other one with its sentiment. I will check now if the dataset is imbalanced."
   ]
  },
  {
   "cell_type": "code",
   "execution_count": 6,
   "metadata": {
    "colab": {
     "base_uri": "https://localhost:8080/",
     "height": 68
    },
    "colab_type": "code",
    "id": "IypvJ_37nYXv",
    "outputId": "df151e2a-dcd6-4b8f-d721-52cbfcc04377"
   },
   "outputs": [
    {
     "data": {
      "text/plain": [
       "negative    25000\n",
       "positive    25000\n",
       "Name: sentiment, dtype: int64"
      ]
     },
     "execution_count": 6,
     "metadata": {
      "tags": []
     },
     "output_type": "execute_result"
    }
   ],
   "source": [
    "df.sentiment.value_counts()"
   ]
  },
  {
   "cell_type": "markdown",
   "metadata": {},
   "source": [
    "Our dataset consists of equal number of positive and negative reviews. In the next cell I will make list consisting of the words and their count in the whole dataset."
   ]
  },
  {
   "cell_type": "code",
   "execution_count": 0,
   "metadata": {
    "colab": {},
    "colab_type": "code",
    "id": "lyrUxASFbVtu",
    "outputId": "0eed0ab6-4f28-47ac-ffc4-59335795d2db"
   },
   "outputs": [
    {
     "data": {
      "text/plain": [
       "[('the', 638861),\n",
       " ('a', 316615),\n",
       " ('and', 313637),\n",
       " ('of', 286661),\n",
       " ('to', 264573),\n",
       " ('is', 204876),\n",
       " ('in', 179807),\n",
       " ('i', 141587),\n",
       " ('this', 138483),\n",
       " ('that', 130140),\n",
       " ('it', 129614),\n",
       " ('/><br', 100974),\n",
       " ('was', 93258),\n",
       " ('as', 88242),\n",
       " ('with', 84590),\n",
       " ('for', 84510),\n",
       " ('but', 77864),\n",
       " ('on', 62890),\n",
       " ('movie', 61492),\n",
       " ('are', 57009),\n",
       " ('his', 56870),\n",
       " ('not', 56765),\n",
       " ('you', 55600),\n",
       " ('film', 55086),\n",
       " ('have', 54423),\n",
       " ('he', 51062),\n",
       " ('be', 50901),\n",
       " ('at', 45259),\n",
       " ('one', 44983),\n",
       " ('by', 43359),\n",
       " ('an', 42330),\n",
       " ('they', 40860),\n",
       " ('from', 39322),\n",
       " ('all', 38570),\n",
       " ('who', 38326),\n",
       " ('like', 37281),\n",
       " ('so', 35972),\n",
       " ('just', 34259),\n",
       " ('or', 33300),\n",
       " ('has', 32610),\n",
       " ('about', 32398),\n",
       " ('her', 31244),\n",
       " (\"it's\", 31212),\n",
       " ('if', 30794),\n",
       " ('some', 30165),\n",
       " ('out', 28980),\n",
       " ('what', 28008),\n",
       " ('very', 26908),\n",
       " ('when', 26904),\n",
       " ('there', 26079),\n",
       " ('more', 25869),\n",
       " ('would', 23807),\n",
       " ('even', 23681),\n",
       " ('my', 23473),\n",
       " ('good', 23467),\n",
       " ('she', 23418),\n",
       " ('their', 22604),\n",
       " ('only', 22588),\n",
       " ('no', 22387),\n",
       " ('really', 21805),\n",
       " ('had', 21596),\n",
       " ('up', 21415),\n",
       " ('can', 21328),\n",
       " ('which', 21152),\n",
       " ('see', 20901),\n",
       " ('were', 20707),\n",
       " ('than', 19106),\n",
       " ('we', 18333),\n",
       " ('-', 18201),\n",
       " ('been', 17940),\n",
       " ('get', 17689),\n",
       " ('into', 17586),\n",
       " ('will', 17572),\n",
       " ('much', 17278),\n",
       " ('because', 17130),\n",
       " ('story', 16810),\n",
       " ('how', 16772),\n",
       " ('most', 16750),\n",
       " ('other', 16373),\n",
       " ('do', 15771),\n",
       " ('also', 15743),\n",
       " (\"don't\", 15714),\n",
       " ('time', 15657),\n",
       " ('its', 15648),\n",
       " ('me', 15501),\n",
       " ('great', 15465),\n",
       " ('first', 15455),\n",
       " ('make', 15028),\n",
       " ('people', 15028),\n",
       " ('could', 14927),\n",
       " ('any', 14741),\n",
       " ('/>the', 14702),\n",
       " ('after', 13948),\n",
       " ('then', 13761),\n",
       " ('made', 13562),\n",
       " ('bad', 13494),\n",
       " ('think', 13304),\n",
       " ('many', 12877),\n",
       " ('being', 12697),\n",
       " ('never', 12621)]"
      ]
     },
     "execution_count": 4,
     "metadata": {
      "tags": []
     },
     "output_type": "execute_result"
    }
   ],
   "source": [
    "Counter(\" \".join(df[\"review\"]).lower().split()).most_common(100)"
   ]
  },
  {
   "cell_type": "markdown",
   "metadata": {
    "colab_type": "text",
    "id": "b8grJy9AnHLM"
   },
   "source": [
    "Among them, we have some HTML tags. I will now replace them with empty strings. "
   ]
  },
  {
   "cell_type": "code",
   "execution_count": 0,
   "metadata": {
    "colab": {},
    "colab_type": "code",
    "id": "qSEK9_C6bVt7"
   },
   "outputs": [],
   "source": [
    "df['review'] = df['review'].str.replace('<br />','')\n",
    "df['review'] = df['review'].str.lower()"
   ]
  },
  {
   "cell_type": "markdown",
   "metadata": {
    "colab_type": "text",
    "id": "e6xGBqmknHLS"
   },
   "source": [
    "The histogram below shows the frequencies of sentences length."
   ]
  },
  {
   "cell_type": "code",
   "execution_count": 0,
   "metadata": {
    "colab": {},
    "colab_type": "code",
    "id": "ixEsLrVfbVuG",
    "outputId": "8342771a-2da9-4fc3-86c9-021341e66023"
   },
   "outputs": [
    {
     "data": {
      "text/plain": [
       "Text(0.5, 1.0, 'Words occurrence frequency')"
      ]
     },
     "execution_count": 6,
     "metadata": {
      "tags": []
     },
     "output_type": "execute_result"
    },
    {
     "data": {
      "image/png": "[encoded data removed]",
      "text/plain": [
       "<Figure size 432x288 with 1 Axes>"
      ]
     },
     "metadata": {
      "needs_background": "light",
      "tags": []
     },
     "output_type": "display_data"
    }
   ],
   "source": [
    "plt.figure()\n",
    "plt.hist(df['review'].str.split().apply(len).value_counts())\n",
    "plt.xlabel('number of words in sentence')\n",
    "plt.ylabel('frequency')\n",
    "plt.title('Words occurrence frequency')"
   ]
  },
  {
   "cell_type": "markdown",
   "metadata": {
    "colab_type": "text",
    "id": "A5NZDWXznHLZ"
   },
   "source": [
    "The figure above tells that most of the reviews is shorter than 50 words."
   ]
  },
  {
   "cell_type": "code",
   "execution_count": 0,
   "metadata": {
    "colab": {},
    "colab_type": "code",
    "id": "YGkrOoorbVuQ",
    "outputId": "6583a71d-1647-4b74-9212-94d163250f15"
   },
   "outputs": [
    {
     "name": "stdout",
     "output_type": "stream",
     "text": [
      "The maximum length of a sentence is:  401\n",
      "The average lenth of a sentence is:  48.732943469785575\n"
     ]
    }
   ],
   "source": [
    "print('The maximum length of a sentence is: ',np.max(df['review'].str.split().apply(len).value_counts()))\n",
    "print('The average lenth of a sentence is: ', np.average(df['review'].str.split().apply(len).value_counts()))"
   ]
  },
  {
   "cell_type": "markdown",
   "metadata": {
    "colab_type": "text",
    "id": "wVPKtaqGnHLf"
   },
   "source": [
    "As we can see, while there are some extraordinary long reviews, the average length is below 49 words."
   ]
  },
  {
   "cell_type": "markdown",
   "metadata": {
    "colab_type": "text",
    "id": "_HxxXzFsnHLg"
   },
   "source": [
    "For our machine learning algorithm, we need to encode the positive/negative classes to numerical values."
   ]
  },
  {
   "cell_type": "code",
   "execution_count": 0,
   "metadata": {
    "colab": {},
    "colab_type": "code",
    "id": "kTk57-MzbVua",
    "outputId": "594ed655-5d39-46f4-b36d-e1a9a795fc6d"
   },
   "outputs": [
    {
     "data": {
      "text/html": [
       "<div>\n",
       "<style scoped>\n",
       "    .dataframe tbody tr th:only-of-type {\n",
       "        vertical-align: middle;\n",
       "    }\n",
       "\n",
       "    .dataframe tbody tr th {\n",
       "        vertical-align: top;\n",
       "    }\n",
       "\n",
       "    .dataframe thead th {\n",
       "        text-align: right;\n",
       "    }\n",
       "</style>\n",
       "<table border=\"1\" class=\"dataframe\">\n",
       "  <thead>\n",
       "    <tr style=\"text-align: right;\">\n",
       "      <th></th>\n",
       "      <th>review</th>\n",
       "      <th>sentiment</th>\n",
       "    </tr>\n",
       "  </thead>\n",
       "  <tbody>\n",
       "    <tr>\n",
       "      <th>0</th>\n",
       "      <td>one of the other reviewers has mentioned that ...</td>\n",
       "      <td>1</td>\n",
       "    </tr>\n",
       "    <tr>\n",
       "      <th>1</th>\n",
       "      <td>a wonderful little production. the filming tec...</td>\n",
       "      <td>1</td>\n",
       "    </tr>\n",
       "    <tr>\n",
       "      <th>2</th>\n",
       "      <td>i thought this was a wonderful way to spend ti...</td>\n",
       "      <td>1</td>\n",
       "    </tr>\n",
       "    <tr>\n",
       "      <th>3</th>\n",
       "      <td>basically there's a family where a little boy ...</td>\n",
       "      <td>0</td>\n",
       "    </tr>\n",
       "    <tr>\n",
       "      <th>4</th>\n",
       "      <td>petter mattei's \"love in the time of money\" is...</td>\n",
       "      <td>1</td>\n",
       "    </tr>\n",
       "  </tbody>\n",
       "</table>\n",
       "</div>"
      ],
      "text/plain": [
       "                                              review  sentiment\n",
       "0  one of the other reviewers has mentioned that ...          1\n",
       "1  a wonderful little production. the filming tec...          1\n",
       "2  i thought this was a wonderful way to spend ti...          1\n",
       "3  basically there's a family where a little boy ...          0\n",
       "4  petter mattei's \"love in the time of money\" is...          1"
      ]
     },
     "execution_count": 8,
     "metadata": {
      "tags": []
     },
     "output_type": "execute_result"
    }
   ],
   "source": [
    "from sklearn import preprocessing\n",
    "label_encoder = preprocessing.LabelEncoder()\n",
    "df['sentiment'] = label_encoder.fit_transform(df['sentiment'])\n",
    "df.head()"
   ]
  },
  {
   "cell_type": "markdown",
   "metadata": {
    "colab_type": "text",
    "id": "Vy2t-T9snHLn"
   },
   "source": [
    "Now positive reviews are marked as 1, while negative as 0. The next step is to separate the dependent variable and split the date into training and test sets. "
   ]
  },
  {
   "cell_type": "code",
   "execution_count": 0,
   "metadata": {
    "colab": {},
    "colab_type": "code",
    "id": "8-_iu1_FbVun"
   },
   "outputs": [],
   "source": [
    "sentences = np.array(df['review'])\n",
    "labels = np.array(df['sentiment'])"
   ]
  },
  {
   "cell_type": "code",
   "execution_count": 0,
   "metadata": {
    "colab": {},
    "colab_type": "code",
    "id": "k_krWXTjbVu1"
   },
   "outputs": [],
   "source": [
    "X_train, X_test, y_train, y_test = train_test_split(sentences, labels, test_size = 0.2)"
   ]
  },
  {
   "cell_type": "markdown",
   "metadata": {
    "colab_type": "text",
    "id": "a4BrYeDLnHL1"
   },
   "source": [
    "After that, we need to define neural network using Keras. It is just an example, since these networks can be much more complex. The only limit is the computational power accessible."
   ]
  },
  {
   "cell_type": "code",
   "execution_count": 0,
   "metadata": {
    "colab": {},
    "colab_type": "code",
    "id": "VTKWdjO-bVvV",
    "outputId": "0b55b63d-518f-4c14-de69-718c0b8aba0b"
   },
   "outputs": [
    {
     "name": "stdout",
     "output_type": "stream",
     "text": [
      "Model: \"sequential\"\n",
      "_________________________________________________________________\n",
      "Layer (type)                 Output Shape              Param #   \n",
      "=================================================================\n",
      "embedding (Embedding)        (None, 400, 150)          3000000   \n",
      "_________________________________________________________________\n",
      "bidirectional (Bidirectional (None, 400, 128)          110080    \n",
      "_________________________________________________________________\n",
      "bidirectional_1 (Bidirection (None, 128)               98816     \n",
      "_________________________________________________________________\n",
      "batch_normalization (BatchNo (None, 128)               512       \n",
      "_________________________________________________________________\n",
      "dropout (Dropout)            (None, 128)               0         \n",
      "_________________________________________________________________\n",
      "dense (Dense)                (None, 128)               16512     \n",
      "_________________________________________________________________\n",
      "dense_1 (Dense)              (None, 1)                 129       \n",
      "=================================================================\n",
      "Total params: 3,226,049\n",
      "Trainable params: 3,225,793\n",
      "Non-trainable params: 256\n",
      "_________________________________________________________________\n"
     ]
    }
   ],
   "source": [
    "vocab_size = 20000\n",
    "embedding_dim = 150 \n",
    "max_length =  400\n",
    "trunc_type = 'post'\n",
    "padding_type = 'post'\n",
    "oov_tok = \"<OOV>\"\n",
    "\n",
    "\n",
    "tokenizer = Tokenizer(num_words = vocab_size, oov_token = oov_tok)\n",
    "tokenizer.fit_on_texts(X_train)\n",
    "\n",
    "word_index = tokenizer.word_index\n",
    "\n",
    "training_sequences = tokenizer.texts_to_sequences(X_train)\n",
    "training_padded = pad_sequences(training_sequences, maxlen = max_length,\n",
    "                                padding = padding_type,\n",
    "                                truncating = trunc_type)\n",
    "\n",
    "testing_sequences = tokenizer.texts_to_sequences(X_test)\n",
    "testing_padded = pad_sequences(testing_sequences, maxlen = max_length,\n",
    "                                padding = padding_type,\n",
    "                                truncating = trunc_type)\n",
    "\n",
    "\n",
    "model = tf.keras.Sequential([\n",
    "    tf.keras.layers.Embedding(vocab_size, embedding_dim, input_length=max_length),\n",
    "\n",
    "    tf.keras.layers.Bidirectional(tf.keras.layers.LSTM(64, return_sequences=True)),\n",
    "   \n",
    "    tf.keras.layers.Bidirectional(tf.keras.layers.LSTM(64)),\n",
    "    tf.keras.layers.BatchNormalization(),\n",
    "    tf.keras.layers.Dropout(0.15),\n",
    "    \n",
    "    tf.keras.layers.Dense(128, activation = 'relu'),\n",
    "    tf.keras.layers.Dense(1, activation = 'sigmoid')\n",
    "])\n",
    "\n",
    "model.summary()"
   ]
  },
  {
   "cell_type": "markdown",
   "metadata": {
    "colab_type": "text",
    "id": "l6_RyFO3nHL7"
   },
   "source": [
    "After building the neural network, the only thing that left is to define the way of learning the model."
   ]
  },
  {
   "cell_type": "code",
   "execution_count": 0,
   "metadata": {
    "colab": {},
    "colab_type": "code",
    "id": "E65j5V5lbVvh",
    "outputId": "d882927d-e8e2-4a0c-cf17-4b7f257e18ab"
   },
   "outputs": [
    {
     "name": "stdout",
     "output_type": "stream",
     "text": [
      "Train on 40000 samples, validate on 10000 samples\n",
      "Epoch 1/10\n",
      "40000/40000 [==============================] - 34s 857us/sample - loss: 0.4113 - accuracy: 0.7967 - val_loss: 0.5189 - val_accuracy: 0.8656\n",
      "Epoch 2/10\n",
      "40000/40000 [==============================] - 23s 576us/sample - loss: 0.1958 - accuracy: 0.9253 - val_loss: 0.4857 - val_accuracy: 0.8869\n",
      "Epoch 3/10\n",
      "40000/40000 [==============================] - 23s 583us/sample - loss: 0.1187 - accuracy: 0.9578 - val_loss: 0.3838 - val_accuracy: 0.8697\n",
      "Epoch 4/10\n",
      "40000/40000 [==============================] - 23s 578us/sample - loss: 0.0634 - accuracy: 0.9792 - val_loss: 0.3603 - val_accuracy: 0.8462\n",
      "Epoch 5/10\n",
      "40000/40000 [==============================] - 23s 580us/sample - loss: 0.0289 - accuracy: 0.9917 - val_loss: 0.3408 - val_accuracy: 0.8801\n",
      "Epoch 6/10\n",
      "40000/40000 [==============================] - 23s 579us/sample - loss: 0.0127 - accuracy: 0.9972 - val_loss: 0.4576 - val_accuracy: 0.8805\n",
      "Epoch 7/10\n",
      "40000/40000 [==============================] - 23s 579us/sample - loss: 0.0069 - accuracy: 0.9988 - val_loss: 0.5541 - val_accuracy: 0.8784\n",
      "Epoch 8/10\n",
      "40000/40000 [==============================] - 23s 577us/sample - loss: 0.0050 - accuracy: 0.9993 - val_loss: 0.6395 - val_accuracy: 0.8793\n",
      "Epoch 9/10\n",
      "40000/40000 [==============================] - 23s 575us/sample - loss: 0.0041 - accuracy: 0.9994 - val_loss: 0.6746 - val_accuracy: 0.8796\n",
      "Epoch 10/10\n",
      "40000/40000 [==============================] - 23s 573us/sample - loss: 0.0037 - accuracy: 0.9995 - val_loss: 0.6851 - val_accuracy: 0.8792\n"
     ]
    }
   ],
   "source": [
    "model.compile(loss = 'binary_crossentropy',\n",
    "            optimizer = Adam(learning_rate=0.001),\n",
    "            metrics = ['accuracy'])\n",
    "\n",
    "callback = tf.keras.callbacks.EarlyStopping(monitor='val_loss', patience=10)\n",
    "\n",
    "def lr_decay(epoch, initial_learningrate = 0.001):\n",
    "    return initial_learningrate * 0.9 ** epoch\n",
    "\n",
    "num_epochs = 10\n",
    "history = model.fit(training_padded, y_train,\n",
    "                    epochs=num_epochs,\n",
    "                    callbacks=[LearningRateScheduler(lr_decay),\n",
    "                              callback],\n",
    "                    batch_size = 512,\n",
    "                    validation_data = (testing_padded, y_test),\n",
    "                    verbose=1)"
   ]
  },
  {
   "cell_type": "markdown",
   "metadata": {
    "colab_type": "text",
    "id": "mdEyEpJbnHMB"
   },
   "source": [
    "After training and validating our model, we can ilustrate its performance on a graph."
   ]
  },
  {
   "cell_type": "code",
   "execution_count": 0,
   "metadata": {
    "colab": {},
    "colab_type": "code",
    "id": "Hxu-0n0ebVvu",
    "outputId": "846c1d51-328b-4fd4-eb33-b30f74a98df8",
    "scrolled": true
   },
   "outputs": [
    {
     "name": "stdout",
     "output_type": "stream",
     "text": [
      "vocab_size:  20000\n"
     ]
    },
    {
     "data": {
      "image/png": "[encoded data removed]",
      "text/plain": [
       "<Figure size 432x288 with 1 Axes>"
      ]
     },
     "metadata": {
      "needs_background": "light",
      "tags": []
     },
     "output_type": "display_data"
    },
    {
     "name": "stdout",
     "output_type": "stream",
     "text": [
      "vocab_size:  20000\n"
     ]
    },
    {
     "data": {
      "image/png": "[encoded data removed]",
      "text/plain": [
       "<Figure size 432x288 with 1 Axes>"
      ]
     },
     "metadata": {
      "needs_background": "light",
      "tags": []
     },
     "output_type": "display_data"
    }
   ],
   "source": [
    "def plot_graphs(history, string):\n",
    "    plt.plot(history.history[string])\n",
    "    plt.plot(history.history['val_'+string])\n",
    "    plt.xlabel('Epochs')\n",
    "    plt.ylabel(string)\n",
    "    plt.title(print('vocab_size: ',vocab_size))\n",
    "    plt.legend([string, 'val_' + string])\n",
    "    plt.show()\n",
    "    \n",
    "plot_graphs(history, \"accuracy\")\n",
    "plot_graphs(history,\"loss\")"
   ]
  },
  {
   "cell_type": "markdown",
   "metadata": {},
   "source": [
    "The above graphs show that the training accuracy is significantly higher than the validation one. The loss is on training, at the last epoch comes to nearly 0, while for the latter, at the 4th epoch, it starts to continously grow. Still, with such balanced class, we achieved an accuracy around <b>0.88</b>, which is good result. This basic example is an evidence, that in relatively short time we can get quite reliable machine learning model."
   ]
  }
 ],
 "metadata": {
  "colab": {
   "collapsed_sections": [],
   "name": "Neural Network for Natural Language Processing.ipynb",
   "provenance": []
  },
  "kernelspec": {
   "display_name": "Python 3",
   "language": "python",
   "name": "python3"
  },
  "language_info": {
   "codemirror_mode": {
    "name": "ipython",
    "version": 3
   },
   "file_extension": ".py",
   "mimetype": "text/x-python",
   "name": "python",
   "nbconvert_exporter": "python",
   "pygments_lexer": "ipython3",
   "version": "3.7.4"
  }
 },
 "nbformat": 4,
 "nbformat_minor": 1
}
