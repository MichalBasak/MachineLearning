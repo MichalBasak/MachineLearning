{
 "cells": [
  {
   "cell_type": "markdown",
   "metadata": {},
   "source": [
    "# Binary Classification in Python - Bank Marketing\n",
    "\n",
    "<p>The data used in this project consists of information acquired during direct marketing campaigns of a Portuguese banking institution. The main task here is to predict if the client will subscribe a term deposit or not.</p>\n",
    "<p>This dataset was taken from Kaggle website. The file used for predictions, <em>bank.csv</em>, is available <a href=\"https://www.kaggle.com/sonujha090/bank-marketing\">here</a>, along with more detailed description.</p>\n",
    "<p>I am going to start with some exploratory data analysis, followed by data cleaning and preprocessing. Then, after selecting relevant features, I will try to perform machine learning techniques to predict the most accurate output, using both linear and tree-based algorithms, making a comparison of these two approaches.</p>\n",
    "<p>To begin with, I will import neccessary packages and functions and load the dataset.</p>"
   ]
  },
  {
   "cell_type": "code",
   "execution_count": 1,
   "metadata": {},
   "outputs": [],
   "source": [
    "import pandas as pd\n",
    "import numpy as np\n",
    "import matplotlib.pyplot as plt\n",
    "import seaborn as sns\n",
    "from sklearn.preprocessing import LabelEncoder\n",
    "from sklearn.model_selection import train_test_split, GridSearchCV\n",
    "from sklearn.linear_model import LogisticRegression\n",
    "from sklearn.svm import LinearSVC\n",
    "from sklearn.tree import DecisionTreeClassifier\n",
    "from sklearn.ensemble import RandomForestClassifier\n",
    "from sklearn.metrics import f1_score, classification_report, confusion_matrix, accuracy_score\n",
    "from imblearn.over_sampling import SMOTE\n",
    "import warnings\n",
    "\n",
    "warnings.simplefilter('ignore')\n",
    "\n",
    "\n",
    "%matplotlib inline"
   ]
  },
  {
   "cell_type": "code",
   "execution_count": 2,
   "metadata": {},
   "outputs": [],
   "source": [
    "data = pd.read_csv(\"bank.csv\")"
   ]
  },
  {
   "cell_type": "markdown",
   "metadata": {},
   "source": [
    "## Exploratory Data Analysis\n",
    "<p>After making all the imports and loading dataset, it is natural step to overview our data. We can see, that there are 16 variables and the output variable <em>y</em>, which can be divided into 3 groups:</p>\n",
    "<p><b>Bank client data:</b></p> \n",
    "<p>1 - age (numeric) 2 - job: type of job (categorical: \"admin\", \"unknown\", \"unemployed\", \"management\", \"housemaid\", \"entrepreneur\", \"student\", \"blue-collar\", \"self-employed\", \"retired\", \"technician\", \"services\") 3 - marital : marital status (categorical: \"married\",\"divorced\",\"single\"; note: \"divorced\" means divorced or widowed) 4 - education (categorical: \"unknown\",\"secondary\",\"primary\",\"tertiary\") 5 - default: has credit in default? (binary: \"yes\",\"no\") 6 - balance: average yearly balance, in euros (numeric) 7 - housing: has housing loan? (binary: \"yes\",\"no\") 8 - loan: has personal loan? (binary: \"yes\",\"no\")</p>\n",
    "<p><b>Data related with to last contact of the current campaign:</b></p>\n",
    "<p>9 - contact: contact communication type (categorical: \"unknown\",\"telephone\",\"cellular\") 10 - day: last contact day of the month (numeric) 11 - month: last contact month of year (categorical: \"jan\", \"feb\", \"mar\", ..., \"nov\", \"dec\") 12 - duration: last contact duration, in seconds (numeric)</p>\n",
    "<p><b>Other attributes:</b></p>\n",
    "<p>13 - campaign: number of contacts performed during this campaign and for this client (numeric, includes last contact) 14 - pdays: number of days that passed by after the client was last contacted from a previous campaign (numeric, -1 means client was not previously contacted) 15 - previous: number of contacts performed before this campaign and for this client (numeric) 16 - poutcome: outcome of the previous marketing campaign (categorical: \"unknown\",\"other\",\"failure\",\"success\")</p>\n",
    "<p>The output variable (desired target), y, records the information if the client has subscribed a term deposit? (binary: \"yes\",\"no\")</p>"
   ]
  },
  {
   "cell_type": "code",
   "execution_count": 3,
   "metadata": {},
   "outputs": [
    {
     "data": {
      "text/html": [
       "<div>\n",
       "<style scoped>\n",
       "    .dataframe tbody tr th:only-of-type {\n",
       "        vertical-align: middle;\n",
       "    }\n",
       "\n",
       "    .dataframe tbody tr th {\n",
       "        vertical-align: top;\n",
       "    }\n",
       "\n",
       "    .dataframe thead th {\n",
       "        text-align: right;\n",
       "    }\n",
       "</style>\n",
       "<table border=\"1\" class=\"dataframe\">\n",
       "  <thead>\n",
       "    <tr style=\"text-align: right;\">\n",
       "      <th></th>\n",
       "      <th>age</th>\n",
       "      <th>job</th>\n",
       "      <th>marital</th>\n",
       "      <th>education</th>\n",
       "      <th>default</th>\n",
       "      <th>balance</th>\n",
       "      <th>housing</th>\n",
       "      <th>loan</th>\n",
       "      <th>contact</th>\n",
       "      <th>day</th>\n",
       "      <th>month</th>\n",
       "      <th>duration</th>\n",
       "      <th>campaign</th>\n",
       "      <th>pdays</th>\n",
       "      <th>previous</th>\n",
       "      <th>poutcome</th>\n",
       "      <th>y</th>\n",
       "    </tr>\n",
       "  </thead>\n",
       "  <tbody>\n",
       "    <tr>\n",
       "      <td>0</td>\n",
       "      <td>30</td>\n",
       "      <td>unemployed</td>\n",
       "      <td>married</td>\n",
       "      <td>primary</td>\n",
       "      <td>no</td>\n",
       "      <td>1787</td>\n",
       "      <td>no</td>\n",
       "      <td>no</td>\n",
       "      <td>cellular</td>\n",
       "      <td>19</td>\n",
       "      <td>oct</td>\n",
       "      <td>79</td>\n",
       "      <td>1</td>\n",
       "      <td>-1</td>\n",
       "      <td>0</td>\n",
       "      <td>unknown</td>\n",
       "      <td>no</td>\n",
       "    </tr>\n",
       "    <tr>\n",
       "      <td>1</td>\n",
       "      <td>33</td>\n",
       "      <td>services</td>\n",
       "      <td>married</td>\n",
       "      <td>secondary</td>\n",
       "      <td>no</td>\n",
       "      <td>4789</td>\n",
       "      <td>yes</td>\n",
       "      <td>yes</td>\n",
       "      <td>cellular</td>\n",
       "      <td>11</td>\n",
       "      <td>may</td>\n",
       "      <td>220</td>\n",
       "      <td>1</td>\n",
       "      <td>339</td>\n",
       "      <td>4</td>\n",
       "      <td>failure</td>\n",
       "      <td>no</td>\n",
       "    </tr>\n",
       "    <tr>\n",
       "      <td>2</td>\n",
       "      <td>35</td>\n",
       "      <td>management</td>\n",
       "      <td>single</td>\n",
       "      <td>tertiary</td>\n",
       "      <td>no</td>\n",
       "      <td>1350</td>\n",
       "      <td>yes</td>\n",
       "      <td>no</td>\n",
       "      <td>cellular</td>\n",
       "      <td>16</td>\n",
       "      <td>apr</td>\n",
       "      <td>185</td>\n",
       "      <td>1</td>\n",
       "      <td>330</td>\n",
       "      <td>1</td>\n",
       "      <td>failure</td>\n",
       "      <td>no</td>\n",
       "    </tr>\n",
       "    <tr>\n",
       "      <td>3</td>\n",
       "      <td>30</td>\n",
       "      <td>management</td>\n",
       "      <td>married</td>\n",
       "      <td>tertiary</td>\n",
       "      <td>no</td>\n",
       "      <td>1476</td>\n",
       "      <td>yes</td>\n",
       "      <td>yes</td>\n",
       "      <td>unknown</td>\n",
       "      <td>3</td>\n",
       "      <td>jun</td>\n",
       "      <td>199</td>\n",
       "      <td>4</td>\n",
       "      <td>-1</td>\n",
       "      <td>0</td>\n",
       "      <td>unknown</td>\n",
       "      <td>no</td>\n",
       "    </tr>\n",
       "    <tr>\n",
       "      <td>4</td>\n",
       "      <td>59</td>\n",
       "      <td>blue-collar</td>\n",
       "      <td>married</td>\n",
       "      <td>secondary</td>\n",
       "      <td>no</td>\n",
       "      <td>0</td>\n",
       "      <td>yes</td>\n",
       "      <td>no</td>\n",
       "      <td>unknown</td>\n",
       "      <td>5</td>\n",
       "      <td>may</td>\n",
       "      <td>226</td>\n",
       "      <td>1</td>\n",
       "      <td>-1</td>\n",
       "      <td>0</td>\n",
       "      <td>unknown</td>\n",
       "      <td>no</td>\n",
       "    </tr>\n",
       "  </tbody>\n",
       "</table>\n",
       "</div>"
      ],
      "text/plain": [
       "   age          job  marital  education default  balance housing loan  \\\n",
       "0   30   unemployed  married    primary      no     1787      no   no   \n",
       "1   33     services  married  secondary      no     4789     yes  yes   \n",
       "2   35   management   single   tertiary      no     1350     yes   no   \n",
       "3   30   management  married   tertiary      no     1476     yes  yes   \n",
       "4   59  blue-collar  married  secondary      no        0     yes   no   \n",
       "\n",
       "    contact  day month  duration  campaign  pdays  previous poutcome   y  \n",
       "0  cellular   19   oct        79         1     -1         0  unknown  no  \n",
       "1  cellular   11   may       220         1    339         4  failure  no  \n",
       "2  cellular   16   apr       185         1    330         1  failure  no  \n",
       "3   unknown    3   jun       199         4     -1         0  unknown  no  \n",
       "4   unknown    5   may       226         1     -1         0  unknown  no  "
      ]
     },
     "execution_count": 3,
     "metadata": {},
     "output_type": "execute_result"
    }
   ],
   "source": [
    "data.head()"
   ]
  },
  {
   "cell_type": "code",
   "execution_count": 4,
   "metadata": {},
   "outputs": [
    {
     "data": {
      "text/plain": [
       "(4521, 17)"
      ]
     },
     "execution_count": 4,
     "metadata": {},
     "output_type": "execute_result"
    }
   ],
   "source": [
    "data.shape"
   ]
  },
  {
   "cell_type": "code",
   "execution_count": 5,
   "metadata": {},
   "outputs": [
    {
     "data": {
      "text/plain": [
       "Index(['age', 'job', 'marital', 'education', 'default', 'balance', 'housing',\n",
       "       'loan', 'contact', 'day', 'month', 'duration', 'campaign', 'pdays',\n",
       "       'previous', 'poutcome', 'y'],\n",
       "      dtype='object')"
      ]
     },
     "execution_count": 5,
     "metadata": {},
     "output_type": "execute_result"
    }
   ],
   "source": [
    "data.columns"
   ]
  },
  {
   "cell_type": "code",
   "execution_count": 6,
   "metadata": {},
   "outputs": [
    {
     "name": "stdout",
     "output_type": "stream",
     "text": [
      "<class 'pandas.core.frame.DataFrame'>\n",
      "RangeIndex: 4521 entries, 0 to 4520\n",
      "Data columns (total 17 columns):\n",
      "age          4521 non-null int64\n",
      "job          4521 non-null object\n",
      "marital      4521 non-null object\n",
      "education    4521 non-null object\n",
      "default      4521 non-null object\n",
      "balance      4521 non-null int64\n",
      "housing      4521 non-null object\n",
      "loan         4521 non-null object\n",
      "contact      4521 non-null object\n",
      "day          4521 non-null int64\n",
      "month        4521 non-null object\n",
      "duration     4521 non-null int64\n",
      "campaign     4521 non-null int64\n",
      "pdays        4521 non-null int64\n",
      "previous     4521 non-null int64\n",
      "poutcome     4521 non-null object\n",
      "y            4521 non-null object\n",
      "dtypes: int64(7), object(10)\n",
      "memory usage: 600.6+ KB\n"
     ]
    }
   ],
   "source": [
    "data.info()"
   ]
  },
  {
   "cell_type": "markdown",
   "metadata": {},
   "source": [
    "<p>As we can see, there are 10 categorical variables and 7 numeric features. It seems that data is in good shape and does not need cleaning, i.e. there are no missing values. Below is the summary of both continuous and categorical variables.</p>"
   ]
  },
  {
   "cell_type": "code",
   "execution_count": 7,
   "metadata": {},
   "outputs": [
    {
     "data": {
      "text/html": [
       "<div>\n",
       "<style scoped>\n",
       "    .dataframe tbody tr th:only-of-type {\n",
       "        vertical-align: middle;\n",
       "    }\n",
       "\n",
       "    .dataframe tbody tr th {\n",
       "        vertical-align: top;\n",
       "    }\n",
       "\n",
       "    .dataframe thead th {\n",
       "        text-align: right;\n",
       "    }\n",
       "</style>\n",
       "<table border=\"1\" class=\"dataframe\">\n",
       "  <thead>\n",
       "    <tr style=\"text-align: right;\">\n",
       "      <th></th>\n",
       "      <th>age</th>\n",
       "      <th>balance</th>\n",
       "      <th>day</th>\n",
       "      <th>duration</th>\n",
       "      <th>campaign</th>\n",
       "      <th>pdays</th>\n",
       "      <th>previous</th>\n",
       "    </tr>\n",
       "  </thead>\n",
       "  <tbody>\n",
       "    <tr>\n",
       "      <td>count</td>\n",
       "      <td>4521.000000</td>\n",
       "      <td>4521.000000</td>\n",
       "      <td>4521.000000</td>\n",
       "      <td>4521.000000</td>\n",
       "      <td>4521.000000</td>\n",
       "      <td>4521.000000</td>\n",
       "      <td>4521.000000</td>\n",
       "    </tr>\n",
       "    <tr>\n",
       "      <td>mean</td>\n",
       "      <td>41.170095</td>\n",
       "      <td>1422.657819</td>\n",
       "      <td>15.915284</td>\n",
       "      <td>263.961292</td>\n",
       "      <td>2.793630</td>\n",
       "      <td>39.766645</td>\n",
       "      <td>0.542579</td>\n",
       "    </tr>\n",
       "    <tr>\n",
       "      <td>std</td>\n",
       "      <td>10.576211</td>\n",
       "      <td>3009.638142</td>\n",
       "      <td>8.247667</td>\n",
       "      <td>259.856633</td>\n",
       "      <td>3.109807</td>\n",
       "      <td>100.121124</td>\n",
       "      <td>1.693562</td>\n",
       "    </tr>\n",
       "    <tr>\n",
       "      <td>min</td>\n",
       "      <td>19.000000</td>\n",
       "      <td>-3313.000000</td>\n",
       "      <td>1.000000</td>\n",
       "      <td>4.000000</td>\n",
       "      <td>1.000000</td>\n",
       "      <td>-1.000000</td>\n",
       "      <td>0.000000</td>\n",
       "    </tr>\n",
       "    <tr>\n",
       "      <td>25%</td>\n",
       "      <td>33.000000</td>\n",
       "      <td>69.000000</td>\n",
       "      <td>9.000000</td>\n",
       "      <td>104.000000</td>\n",
       "      <td>1.000000</td>\n",
       "      <td>-1.000000</td>\n",
       "      <td>0.000000</td>\n",
       "    </tr>\n",
       "    <tr>\n",
       "      <td>50%</td>\n",
       "      <td>39.000000</td>\n",
       "      <td>444.000000</td>\n",
       "      <td>16.000000</td>\n",
       "      <td>185.000000</td>\n",
       "      <td>2.000000</td>\n",
       "      <td>-1.000000</td>\n",
       "      <td>0.000000</td>\n",
       "    </tr>\n",
       "    <tr>\n",
       "      <td>75%</td>\n",
       "      <td>49.000000</td>\n",
       "      <td>1480.000000</td>\n",
       "      <td>21.000000</td>\n",
       "      <td>329.000000</td>\n",
       "      <td>3.000000</td>\n",
       "      <td>-1.000000</td>\n",
       "      <td>0.000000</td>\n",
       "    </tr>\n",
       "    <tr>\n",
       "      <td>max</td>\n",
       "      <td>87.000000</td>\n",
       "      <td>71188.000000</td>\n",
       "      <td>31.000000</td>\n",
       "      <td>3025.000000</td>\n",
       "      <td>50.000000</td>\n",
       "      <td>871.000000</td>\n",
       "      <td>25.000000</td>\n",
       "    </tr>\n",
       "  </tbody>\n",
       "</table>\n",
       "</div>"
      ],
      "text/plain": [
       "               age       balance          day     duration     campaign  \\\n",
       "count  4521.000000   4521.000000  4521.000000  4521.000000  4521.000000   \n",
       "mean     41.170095   1422.657819    15.915284   263.961292     2.793630   \n",
       "std      10.576211   3009.638142     8.247667   259.856633     3.109807   \n",
       "min      19.000000  -3313.000000     1.000000     4.000000     1.000000   \n",
       "25%      33.000000     69.000000     9.000000   104.000000     1.000000   \n",
       "50%      39.000000    444.000000    16.000000   185.000000     2.000000   \n",
       "75%      49.000000   1480.000000    21.000000   329.000000     3.000000   \n",
       "max      87.000000  71188.000000    31.000000  3025.000000    50.000000   \n",
       "\n",
       "             pdays     previous  \n",
       "count  4521.000000  4521.000000  \n",
       "mean     39.766645     0.542579  \n",
       "std     100.121124     1.693562  \n",
       "min      -1.000000     0.000000  \n",
       "25%      -1.000000     0.000000  \n",
       "50%      -1.000000     0.000000  \n",
       "75%      -1.000000     0.000000  \n",
       "max     871.000000    25.000000  "
      ]
     },
     "execution_count": 7,
     "metadata": {},
     "output_type": "execute_result"
    }
   ],
   "source": [
    "# A subset of numeric data for future use. Also a convenient way to display characteristics of the variables.\n",
    "data_numeric = data[data.describe().columns]\n",
    "data_numeric.describe()"
   ]
  },
  {
   "cell_type": "code",
   "execution_count": 8,
   "metadata": {},
   "outputs": [
    {
     "data": {
      "text/html": [
       "<div>\n",
       "<style scoped>\n",
       "    .dataframe tbody tr th:only-of-type {\n",
       "        vertical-align: middle;\n",
       "    }\n",
       "\n",
       "    .dataframe tbody tr th {\n",
       "        vertical-align: top;\n",
       "    }\n",
       "\n",
       "    .dataframe thead th {\n",
       "        text-align: right;\n",
       "    }\n",
       "</style>\n",
       "<table border=\"1\" class=\"dataframe\">\n",
       "  <thead>\n",
       "    <tr style=\"text-align: right;\">\n",
       "      <th></th>\n",
       "      <th>job</th>\n",
       "      <th>marital</th>\n",
       "      <th>education</th>\n",
       "      <th>default</th>\n",
       "      <th>housing</th>\n",
       "      <th>loan</th>\n",
       "      <th>contact</th>\n",
       "      <th>month</th>\n",
       "      <th>poutcome</th>\n",
       "      <th>y</th>\n",
       "    </tr>\n",
       "  </thead>\n",
       "  <tbody>\n",
       "    <tr>\n",
       "      <td>count</td>\n",
       "      <td>4521</td>\n",
       "      <td>4521</td>\n",
       "      <td>4521</td>\n",
       "      <td>4521</td>\n",
       "      <td>4521</td>\n",
       "      <td>4521</td>\n",
       "      <td>4521</td>\n",
       "      <td>4521</td>\n",
       "      <td>4521</td>\n",
       "      <td>4521</td>\n",
       "    </tr>\n",
       "    <tr>\n",
       "      <td>unique</td>\n",
       "      <td>12</td>\n",
       "      <td>3</td>\n",
       "      <td>4</td>\n",
       "      <td>2</td>\n",
       "      <td>2</td>\n",
       "      <td>2</td>\n",
       "      <td>3</td>\n",
       "      <td>12</td>\n",
       "      <td>4</td>\n",
       "      <td>2</td>\n",
       "    </tr>\n",
       "    <tr>\n",
       "      <td>top</td>\n",
       "      <td>management</td>\n",
       "      <td>married</td>\n",
       "      <td>secondary</td>\n",
       "      <td>no</td>\n",
       "      <td>yes</td>\n",
       "      <td>no</td>\n",
       "      <td>cellular</td>\n",
       "      <td>may</td>\n",
       "      <td>unknown</td>\n",
       "      <td>no</td>\n",
       "    </tr>\n",
       "    <tr>\n",
       "      <td>freq</td>\n",
       "      <td>969</td>\n",
       "      <td>2797</td>\n",
       "      <td>2306</td>\n",
       "      <td>4445</td>\n",
       "      <td>2559</td>\n",
       "      <td>3830</td>\n",
       "      <td>2896</td>\n",
       "      <td>1398</td>\n",
       "      <td>3705</td>\n",
       "      <td>4000</td>\n",
       "    </tr>\n",
       "  </tbody>\n",
       "</table>\n",
       "</div>"
      ],
      "text/plain": [
       "               job  marital  education default housing  loan   contact month  \\\n",
       "count         4521     4521       4521    4521    4521  4521      4521  4521   \n",
       "unique          12        3          4       2       2     2         3    12   \n",
       "top     management  married  secondary      no     yes    no  cellular   may   \n",
       "freq           969     2797       2306    4445    2559  3830      2896  1398   \n",
       "\n",
       "       poutcome     y  \n",
       "count      4521  4521  \n",
       "unique        4     2  \n",
       "top     unknown    no  \n",
       "freq       3705  4000  "
      ]
     },
     "execution_count": 8,
     "metadata": {},
     "output_type": "execute_result"
    }
   ],
   "source": [
    "# A subset of categorical data for future use. Also a convenient way to display characteristics of the variables.\n",
    "data_categorical = data[data.describe(include=[\"object\"]).columns]\n",
    "data_categorical.describe()"
   ]
  },
  {
   "cell_type": "markdown",
   "metadata": {},
   "source": [
    "<p>In the numeric subset, it is noticeable that the variables <b>pdays</b> and <b>previous</b> are strongly imbalanced - both of them are dominated by -1 and 0 values respectively. In both cases, at least up to the 75th percentile, all records in <i>pdays</i> equal -1 and every value in <i>previous</i> equals 0.</p>\n",
    "<p>As for the categorical variables, we can observe that in the <b>poutcome</b> column, for 3705 observations the outcome of the previous marketing campaign is unknown. We can consider them as missing data, which makes this column a strong candidate to be removed, since it does not give us much information. Moreover, 4000 out of 4521 clients have not subscribed to the bank's offer, so there is a huge imbalance in the output variable.</p>\n",
    "<p>Before removing <i>poutcome</i> variable, it might be reasonable to check if there is any binding between number of clients who previously subscribed to the bank's offer and who subscribed to the current offer. As mentioned before, at first glance, due to many missing values, it seems <i>poutcome</i> should be removed. However, it might occur that there is huge probability, that if client previously subscribed to the offer, then he or she will be more likely to accept current offer.</p>"
   ]
  },
  {
   "cell_type": "code",
   "execution_count": 9,
   "metadata": {},
   "outputs": [
    {
     "data": {
      "text/plain": [
       "unknown    337\n",
       "success     83\n",
       "failure     63\n",
       "other       38\n",
       "Name: poutcome, dtype: int64"
      ]
     },
     "execution_count": 9,
     "metadata": {},
     "output_type": "execute_result"
    }
   ],
   "source": [
    "# 2 subsets of clients who subscribed to the service and who did not. Both will be also usefull to visualize the class\n",
    "# imbalance later.\n",
    "data_yes = data[data[\"y\"] == \"yes\"]\n",
    "data_no = data[data[\"y\"] == \"no\"]\n",
    "\n",
    "data_yes[\"poutcome\"].value_counts()"
   ]
  },
  {
   "cell_type": "markdown",
   "metadata": {},
   "source": [
    "<p>The figure above shows the counts of previous campaign result among the clients, who subscribe to the offer during current campaign. The percentage of this fration among subscribers is:</p>"
   ]
  },
  {
   "cell_type": "code",
   "execution_count": 10,
   "metadata": {},
   "outputs": [
    {
     "name": "stdout",
     "output_type": "stream",
     "text": [
      "15.93%\n"
     ]
    }
   ],
   "source": [
    "print(round(len(data_yes[data_yes[\"poutcome\"] == \"success\"])/len(data_yes)*100, 2),\"%\", sep='')"
   ]
  },
  {
   "cell_type": "code",
   "execution_count": 11,
   "metadata": {},
   "outputs": [
    {
     "data": {
      "text/plain": [
       "unknown    3705\n",
       "failure     490\n",
       "other       197\n",
       "success     129\n",
       "Name: poutcome, dtype: int64"
      ]
     },
     "execution_count": 11,
     "metadata": {},
     "output_type": "execute_result"
    }
   ],
   "source": [
    "data[\"poutcome\"].value_counts()"
   ]
  },
  {
   "cell_type": "markdown",
   "metadata": {},
   "source": [
    "<p>On the contrary, here I am going to check how big is the group of clients who subscribed during previous campaign comparing to the whole population in the dataset:</p>"
   ]
  },
  {
   "cell_type": "code",
   "execution_count": 12,
   "metadata": {},
   "outputs": [
    {
     "name": "stdout",
     "output_type": "stream",
     "text": [
      "2.85%\n"
     ]
    }
   ],
   "source": [
    "print(round(len(data[data[\"poutcome\"] == \"success\"])/len(data)*100, 2),\"%\", sep='')"
   ]
  },
  {
   "cell_type": "markdown",
   "metadata": {},
   "source": [
    "<p>It turns out that among people, who currently subscribe the deposit term, 15.93% of them subscribed the deposit term previously as well. The overall number of clients who previously subscribed to the bank's offer constitutes 2.85% of all tested clients, so we can observe a slight correlation of these 2 traits. Due to huge imbalance of the dataset and the low overall number of \"yes\" records, we might assume that this feature is relevant.</p>\n",
    "<p>Now I will investigate another 2 suspicious columns, <i>pdays</i> and <i>previous</i>, populated mostly by -1 and 0 respectively. I am going to check the exact counts of both values:</p>"
   ]
  },
  {
   "cell_type": "code",
   "execution_count": 13,
   "metadata": {},
   "outputs": [
    {
     "name": "stdout",
     "output_type": "stream",
     "text": [
      "Number of 'pdays' records equal to -1: 3705 \n",
      "Number of 'previous' records equal to 0: 3705\n"
     ]
    }
   ],
   "source": [
    "print(\"Number of 'pdays' records equal to -1:\",len(data[data.pdays == -1]),\"\\nNumber of 'previous' records equal to 0:\",\n",
    "      len(data[data.previous == 0]))"
   ]
  },
  {
   "cell_type": "markdown",
   "metadata": {},
   "source": [
    "<p>Both numbers are the same. I will check if <i>pdays</i> equal to -1 means <i>previous</i> equal to 0:</p>"
   ]
  },
  {
   "cell_type": "code",
   "execution_count": 14,
   "metadata": {},
   "outputs": [
    {
     "data": {
      "text/html": [
       "<div>\n",
       "<style scoped>\n",
       "    .dataframe tbody tr th:only-of-type {\n",
       "        vertical-align: middle;\n",
       "    }\n",
       "\n",
       "    .dataframe tbody tr th {\n",
       "        vertical-align: top;\n",
       "    }\n",
       "\n",
       "    .dataframe thead th {\n",
       "        text-align: right;\n",
       "    }\n",
       "</style>\n",
       "<table border=\"1\" class=\"dataframe\">\n",
       "  <thead>\n",
       "    <tr style=\"text-align: right;\">\n",
       "      <th>pdays</th>\n",
       "      <th>-1</th>\n",
       "    </tr>\n",
       "    <tr>\n",
       "      <th>previous</th>\n",
       "      <th></th>\n",
       "    </tr>\n",
       "  </thead>\n",
       "  <tbody>\n",
       "    <tr>\n",
       "      <td>0</td>\n",
       "      <td>3705</td>\n",
       "    </tr>\n",
       "  </tbody>\n",
       "</table>\n",
       "</div>"
      ],
      "text/plain": [
       "pdays       -1\n",
       "previous      \n",
       "0         3705"
      ]
     },
     "execution_count": 14,
     "metadata": {},
     "output_type": "execute_result"
    }
   ],
   "source": [
    "pd.crosstab(data.previous[data.previous == 0], data.pdays)"
   ]
  },
  {
   "cell_type": "markdown",
   "metadata": {},
   "source": [
    "<p>It turns out to be true. What is also interesting, the number of 3705 is also the count of \"unknown\" records in the <i>poutcome</i> variable, what was shown in one of the cells above. It might happen, that \"unknown\", rather than missing value, is a way to indicate that the client was not previously contacted:</p>"
   ]
  },
  {
   "cell_type": "code",
   "execution_count": 15,
   "metadata": {},
   "outputs": [
    {
     "data": {
      "text/html": [
       "<div>\n",
       "<style scoped>\n",
       "    .dataframe tbody tr th:only-of-type {\n",
       "        vertical-align: middle;\n",
       "    }\n",
       "\n",
       "    .dataframe tbody tr th {\n",
       "        vertical-align: top;\n",
       "    }\n",
       "\n",
       "    .dataframe thead th {\n",
       "        text-align: right;\n",
       "    }\n",
       "</style>\n",
       "<table border=\"1\" class=\"dataframe\">\n",
       "  <thead>\n",
       "    <tr style=\"text-align: right;\">\n",
       "      <th>poutcome</th>\n",
       "      <th>unknown</th>\n",
       "    </tr>\n",
       "    <tr>\n",
       "      <th>pdays</th>\n",
       "      <th></th>\n",
       "    </tr>\n",
       "  </thead>\n",
       "  <tbody>\n",
       "    <tr>\n",
       "      <td>-1</td>\n",
       "      <td>3705</td>\n",
       "    </tr>\n",
       "  </tbody>\n",
       "</table>\n",
       "</div>"
      ],
      "text/plain": [
       "poutcome  unknown\n",
       "pdays            \n",
       "-1           3705"
      ]
     },
     "execution_count": 15,
     "metadata": {},
     "output_type": "execute_result"
    }
   ],
   "source": [
    "pd.crosstab(data.pdays, data.poutcome[data.poutcome == \"unknown\"])"
   ]
  },
  {
   "cell_type": "markdown",
   "metadata": {},
   "source": [
    "<p>Both match perfectly. \"unknown\" indeed means there was not any contact with this client before the current campaign. Taking into account higher probability of subscribing the term deposit among clients who accepted the offer previously, it seems that this column might be valuable for us and it is better to keep it. It is also better to retain <i>pdays</i> and <i>previous</i> variables for now, as, besides the situation described earlier, for clients who have been previously contacted, they may behave completely different.</p>"
   ]
  },
  {
   "cell_type": "markdown",
   "metadata": {},
   "source": [
    "## Data Cleaning and Preprocessing\n",
    "<p>Though the <i>pdays</i> column contain some valuable information, instead of leaving the exact number of days that passed since the last contact before the current campaign, for which, in many cases there might be only one observation, we can combine them into some more informative groups. We can assume, that banks usually have 1-2 campaigns during a year and if the client was not contacted during last 6 months, it is rather considered as long period. I will now modify this column, indicating if the client was contacted during last 180 days or not (\"never\" in case of no contact before).</p>"
   ]
  },
  {
   "cell_type": "code",
   "execution_count": 16,
   "metadata": {},
   "outputs": [],
   "source": [
    "data_numeric[\"contact_6m\"] = data_numeric[\"pdays\"].apply(lambda val: \"never\" if val == -1 else\n",
    "                                                           (\"yes\" if val <= 180 else \"no\"))"
   ]
  },
  {
   "cell_type": "markdown",
   "metadata": {},
   "source": [
    "<p>Since this variable is now no longer numeric and has become categorical, I will add it to the appropriate subset.</p>"
   ]
  },
  {
   "cell_type": "code",
   "execution_count": 17,
   "metadata": {},
   "outputs": [],
   "source": [
    "contact_6m = data_numeric[\"contact_6m\"]\n",
    "data_categorical = pd.concat([data_categorical, contact_6m], axis=1)"
   ]
  },
  {
   "cell_type": "markdown",
   "metadata": {},
   "source": [
    "<p>Instead of keeping track of all of the months, we can group them into quartiles, so we could reduce the number of <i>month</i> classes from 12 to 4:</p>"
   ]
  },
  {
   "cell_type": "code",
   "execution_count": 18,
   "metadata": {},
   "outputs": [],
   "source": [
    "Q1 = [\"jan\", \"feb\", \"mar\"]\n",
    "Q2 = [\"apr\", \"may\", \"jun\"]\n",
    "Q3 = [\"jul\", \"aug\", \"sep\"]\n",
    "Q4 = [\"oct\", \"nov\", \"dec\"]\n",
    "\n",
    "data_categorical[\"month\"] = data_categorical[\"month\"].apply(lambda m: \"Q1\" if m in Q1 else (\"Q2\" if m in Q2 else\n",
    "                                                                                            (\"Q3\" if m in Q3 else \"Q4\")))"
   ]
  },
  {
   "cell_type": "markdown",
   "metadata": {},
   "source": [
    "This is how categorical variables look after preprocessing works:"
   ]
  },
  {
   "cell_type": "code",
   "execution_count": 19,
   "metadata": {},
   "outputs": [
    {
     "data": {
      "text/html": [
       "<div>\n",
       "<style scoped>\n",
       "    .dataframe tbody tr th:only-of-type {\n",
       "        vertical-align: middle;\n",
       "    }\n",
       "\n",
       "    .dataframe tbody tr th {\n",
       "        vertical-align: top;\n",
       "    }\n",
       "\n",
       "    .dataframe thead th {\n",
       "        text-align: right;\n",
       "    }\n",
       "</style>\n",
       "<table border=\"1\" class=\"dataframe\">\n",
       "  <thead>\n",
       "    <tr style=\"text-align: right;\">\n",
       "      <th></th>\n",
       "      <th>job</th>\n",
       "      <th>marital</th>\n",
       "      <th>education</th>\n",
       "      <th>default</th>\n",
       "      <th>housing</th>\n",
       "      <th>loan</th>\n",
       "      <th>contact</th>\n",
       "      <th>month</th>\n",
       "      <th>poutcome</th>\n",
       "      <th>y</th>\n",
       "      <th>contact_6m</th>\n",
       "    </tr>\n",
       "  </thead>\n",
       "  <tbody>\n",
       "    <tr>\n",
       "      <td>0</td>\n",
       "      <td>unemployed</td>\n",
       "      <td>married</td>\n",
       "      <td>primary</td>\n",
       "      <td>no</td>\n",
       "      <td>no</td>\n",
       "      <td>no</td>\n",
       "      <td>cellular</td>\n",
       "      <td>Q4</td>\n",
       "      <td>unknown</td>\n",
       "      <td>no</td>\n",
       "      <td>never</td>\n",
       "    </tr>\n",
       "    <tr>\n",
       "      <td>1</td>\n",
       "      <td>services</td>\n",
       "      <td>married</td>\n",
       "      <td>secondary</td>\n",
       "      <td>no</td>\n",
       "      <td>yes</td>\n",
       "      <td>yes</td>\n",
       "      <td>cellular</td>\n",
       "      <td>Q2</td>\n",
       "      <td>failure</td>\n",
       "      <td>no</td>\n",
       "      <td>no</td>\n",
       "    </tr>\n",
       "    <tr>\n",
       "      <td>2</td>\n",
       "      <td>management</td>\n",
       "      <td>single</td>\n",
       "      <td>tertiary</td>\n",
       "      <td>no</td>\n",
       "      <td>yes</td>\n",
       "      <td>no</td>\n",
       "      <td>cellular</td>\n",
       "      <td>Q2</td>\n",
       "      <td>failure</td>\n",
       "      <td>no</td>\n",
       "      <td>no</td>\n",
       "    </tr>\n",
       "    <tr>\n",
       "      <td>3</td>\n",
       "      <td>management</td>\n",
       "      <td>married</td>\n",
       "      <td>tertiary</td>\n",
       "      <td>no</td>\n",
       "      <td>yes</td>\n",
       "      <td>yes</td>\n",
       "      <td>unknown</td>\n",
       "      <td>Q2</td>\n",
       "      <td>unknown</td>\n",
       "      <td>no</td>\n",
       "      <td>never</td>\n",
       "    </tr>\n",
       "    <tr>\n",
       "      <td>4</td>\n",
       "      <td>blue-collar</td>\n",
       "      <td>married</td>\n",
       "      <td>secondary</td>\n",
       "      <td>no</td>\n",
       "      <td>yes</td>\n",
       "      <td>no</td>\n",
       "      <td>unknown</td>\n",
       "      <td>Q2</td>\n",
       "      <td>unknown</td>\n",
       "      <td>no</td>\n",
       "      <td>never</td>\n",
       "    </tr>\n",
       "  </tbody>\n",
       "</table>\n",
       "</div>"
      ],
      "text/plain": [
       "           job  marital  education default housing loan   contact month  \\\n",
       "0   unemployed  married    primary      no      no   no  cellular    Q4   \n",
       "1     services  married  secondary      no     yes  yes  cellular    Q2   \n",
       "2   management   single   tertiary      no     yes   no  cellular    Q2   \n",
       "3   management  married   tertiary      no     yes  yes   unknown    Q2   \n",
       "4  blue-collar  married  secondary      no     yes   no   unknown    Q2   \n",
       "\n",
       "  poutcome   y contact_6m  \n",
       "0  unknown  no      never  \n",
       "1  failure  no         no  \n",
       "2  failure  no         no  \n",
       "3  unknown  no      never  \n",
       "4  unknown  no      never  "
      ]
     },
     "execution_count": 19,
     "metadata": {},
     "output_type": "execute_result"
    }
   ],
   "source": [
    "data_categorical.head()"
   ]
  },
  {
   "cell_type": "markdown",
   "metadata": {},
   "source": [
    "<p>Since I recoded the variable <i>pdays</i>, I do not need it anymore. I will also delete the <i>contact_6m</i> variable from <i>data_numeric</i>, which remained after above mentioned encoding in this subset and is now doubled with the same column in categorical subset.</p>"
   ]
  },
  {
   "cell_type": "code",
   "execution_count": 20,
   "metadata": {},
   "outputs": [],
   "source": [
    "to_drop_numeric = [\"pdays\", \"contact_6m\"]\n",
    "\n",
    "data_numeric = data_numeric.drop(to_drop_numeric, axis=1)"
   ]
  },
  {
   "cell_type": "markdown",
   "metadata": {},
   "source": [
    "<p>Another problem of this dataset, which was not talked before, is the huge variance of some of the numeric columns. Especially variables such as <b>balance</b> and <b>duration</b> suffer from this, having much higher orders of magnitude than the rest of the variables, which is shown in the below figure, followed by 2 plots.</p>"
   ]
  },
  {
   "cell_type": "code",
   "execution_count": 21,
   "metadata": {},
   "outputs": [
    {
     "data": {
      "text/plain": [
       "age         1.118562e+02\n",
       "balance     9.057922e+06\n",
       "day         6.802402e+01\n",
       "duration    6.752547e+04\n",
       "campaign    9.670897e+00\n",
       "previous    2.868153e+00\n",
       "dtype: float64"
      ]
     },
     "execution_count": 21,
     "metadata": {},
     "output_type": "execute_result"
    }
   ],
   "source": [
    "data_numeric.var()"
   ]
  },
  {
   "cell_type": "code",
   "execution_count": 22,
   "metadata": {},
   "outputs": [
    {
     "data": {
      "image/png": "[encoded data removed]",
      "text/plain": [
       "<Figure size 432x288 with 1 Axes>"
      ]
     },
     "metadata": {
      "needs_background": "light"
     },
     "output_type": "display_data"
    }
   ],
   "source": [
    "balance_plot = data_numeric['balance'].plot(kind=\"hist\")\n",
    "balance_plot.set(xlabel=\"Balance\", ylabel=\"Number of clients\")\n",
    "plt.show()"
   ]
  },
  {
   "cell_type": "code",
   "execution_count": 23,
   "metadata": {},
   "outputs": [
    {
     "data": {
      "image/png": "[encoded data removed]",
      "text/plain": [
       "<Figure size 432x288 with 1 Axes>"
      ]
     },
     "metadata": {
      "needs_background": "light"
     },
     "output_type": "display_data"
    }
   ],
   "source": [
    "duration_plot = data_numeric['duration'].plot(kind=\"hist\")\n",
    "duration_plot.set(xlabel=\"Duration\", ylabel=\"Number of clients\")\n",
    "plt.show()"
   ]
  },
  {
   "cell_type": "markdown",
   "metadata": {},
   "source": [
    "<p>This can bias the model, resulting in poor performance of our predictions. To face this problem, and ensuring that the variables have distribiution close to the normal, which is needed for many machine learning models, I will now perform log normalization of these values, so they can be used in our models.</p>\n",
    "<p>However, the <i>balance</i> variable has some negative values, so before normalization, all values must be positive. To deal with this, I will add a value of 3314 to all the observations, so the lowest one, equal to -3313, becomes positive (equal to 1).</p>"
   ]
  },
  {
   "cell_type": "code",
   "execution_count": 24,
   "metadata": {},
   "outputs": [],
   "source": [
    "data_numeric[\"balance\"] = np.log(data_numeric[\"balance\"] + 3314)\n",
    "data_numeric[\"duration\"] = np.log(data_numeric[\"duration\"])"
   ]
  },
  {
   "cell_type": "markdown",
   "metadata": {},
   "source": [
    "We can see now, for example, how the distribution of <i>duration</i> variable looks like:"
   ]
  },
  {
   "cell_type": "code",
   "execution_count": 25,
   "metadata": {},
   "outputs": [
    {
     "data": {
      "image/png": "[encoded data removed]",
      "text/plain": [
       "<Figure size 432x288 with 1 Axes>"
      ]
     },
     "metadata": {
      "needs_background": "light"
     },
     "output_type": "display_data"
    }
   ],
   "source": [
    "duration_log_plot = data_numeric['duration'].plot(kind=\"hist\")\n",
    "duration_log_plot.set(xlabel=\"Duration\", ylabel=\"Number of clients\")\n",
    "plt.show()"
   ]
  },
  {
   "cell_type": "markdown",
   "metadata": {},
   "source": [
    "<p>Since Scikit-learn models require features to be numeric, I need to encode the categorical variables to the numeric ones. After preprocessing tasks I have now 11 categorical columns, where 4 of them is binary and 7 is multi-class columns. I am going to use different approaches to deal with both of these cases. Next, I will remove the columns in their original form to have only those encoded.</p>"
   ]
  },
  {
   "cell_type": "code",
   "execution_count": 26,
   "metadata": {},
   "outputs": [
    {
     "data": {
      "text/html": [
       "<div>\n",
       "<style scoped>\n",
       "    .dataframe tbody tr th:only-of-type {\n",
       "        vertical-align: middle;\n",
       "    }\n",
       "\n",
       "    .dataframe tbody tr th {\n",
       "        vertical-align: top;\n",
       "    }\n",
       "\n",
       "    .dataframe thead th {\n",
       "        text-align: right;\n",
       "    }\n",
       "</style>\n",
       "<table border=\"1\" class=\"dataframe\">\n",
       "  <thead>\n",
       "    <tr style=\"text-align: right;\">\n",
       "      <th></th>\n",
       "      <th>job</th>\n",
       "      <th>marital</th>\n",
       "      <th>education</th>\n",
       "      <th>default</th>\n",
       "      <th>housing</th>\n",
       "      <th>loan</th>\n",
       "      <th>contact</th>\n",
       "      <th>month</th>\n",
       "      <th>poutcome</th>\n",
       "      <th>y</th>\n",
       "      <th>contact_6m</th>\n",
       "    </tr>\n",
       "  </thead>\n",
       "  <tbody>\n",
       "    <tr>\n",
       "      <td>count</td>\n",
       "      <td>4521</td>\n",
       "      <td>4521</td>\n",
       "      <td>4521</td>\n",
       "      <td>4521</td>\n",
       "      <td>4521</td>\n",
       "      <td>4521</td>\n",
       "      <td>4521</td>\n",
       "      <td>4521</td>\n",
       "      <td>4521</td>\n",
       "      <td>4521</td>\n",
       "      <td>4521</td>\n",
       "    </tr>\n",
       "    <tr>\n",
       "      <td>unique</td>\n",
       "      <td>12</td>\n",
       "      <td>3</td>\n",
       "      <td>4</td>\n",
       "      <td>2</td>\n",
       "      <td>2</td>\n",
       "      <td>2</td>\n",
       "      <td>3</td>\n",
       "      <td>4</td>\n",
       "      <td>4</td>\n",
       "      <td>2</td>\n",
       "      <td>3</td>\n",
       "    </tr>\n",
       "    <tr>\n",
       "      <td>top</td>\n",
       "      <td>management</td>\n",
       "      <td>married</td>\n",
       "      <td>secondary</td>\n",
       "      <td>no</td>\n",
       "      <td>yes</td>\n",
       "      <td>no</td>\n",
       "      <td>cellular</td>\n",
       "      <td>Q2</td>\n",
       "      <td>unknown</td>\n",
       "      <td>no</td>\n",
       "      <td>never</td>\n",
       "    </tr>\n",
       "    <tr>\n",
       "      <td>freq</td>\n",
       "      <td>969</td>\n",
       "      <td>2797</td>\n",
       "      <td>2306</td>\n",
       "      <td>4445</td>\n",
       "      <td>2559</td>\n",
       "      <td>3830</td>\n",
       "      <td>2896</td>\n",
       "      <td>2222</td>\n",
       "      <td>3705</td>\n",
       "      <td>4000</td>\n",
       "      <td>3705</td>\n",
       "    </tr>\n",
       "  </tbody>\n",
       "</table>\n",
       "</div>"
      ],
      "text/plain": [
       "               job  marital  education default housing  loan   contact month  \\\n",
       "count         4521     4521       4521    4521    4521  4521      4521  4521   \n",
       "unique          12        3          4       2       2     2         3     4   \n",
       "top     management  married  secondary      no     yes    no  cellular    Q2   \n",
       "freq           969     2797       2306    4445    2559  3830      2896  2222   \n",
       "\n",
       "       poutcome     y contact_6m  \n",
       "count      4521  4521       4521  \n",
       "unique        4     2          3  \n",
       "top     unknown    no      never  \n",
       "freq       3705  4000       3705  "
      ]
     },
     "execution_count": 26,
     "metadata": {},
     "output_type": "execute_result"
    }
   ],
   "source": [
    "data_categorical.describe()"
   ]
  },
  {
   "cell_type": "code",
   "execution_count": 27,
   "metadata": {},
   "outputs": [],
   "source": [
    "# For binary variables, I will use LabelEncoder\n",
    "le = LabelEncoder()\n",
    "\n",
    "cat_binary = [\"default\", \"housing\", \"loan\", \"y\"]\n",
    "\n",
    "for c in cat_binary:\n",
    "    data_categorical[c] = le.fit_transform(data_categorical[c])"
   ]
  },
  {
   "cell_type": "code",
   "execution_count": 28,
   "metadata": {},
   "outputs": [],
   "source": [
    "# For multiclass columns, I will perform one-hot encoding using dummy variables\n",
    "\n",
    "cat_multi = [\"job\", \"marital\", \"education\", \"contact\", \"month\", \"poutcome\", \"contact_6m\"]\n",
    "\n",
    "for c in cat_multi:\n",
    "    data_categorical = pd.concat([data_categorical,pd.get_dummies(data_categorical[c], prefix=c)],axis=1)\n",
    "    data_categorical.drop([c],axis=1, inplace=True)"
   ]
  },
  {
   "cell_type": "code",
   "execution_count": 29,
   "metadata": {},
   "outputs": [],
   "source": [
    "# After normalizing numeric variables and encoding categorical columns, I concatenate all the variables together.\n",
    "data_cleaned = pd.concat([data_numeric, data_categorical], axis=1)"
   ]
  },
  {
   "cell_type": "code",
   "execution_count": 30,
   "metadata": {},
   "outputs": [
    {
     "data": {
      "text/html": [
       "<div>\n",
       "<style scoped>\n",
       "    .dataframe tbody tr th:only-of-type {\n",
       "        vertical-align: middle;\n",
       "    }\n",
       "\n",
       "    .dataframe tbody tr th {\n",
       "        vertical-align: top;\n",
       "    }\n",
       "\n",
       "    .dataframe thead th {\n",
       "        text-align: right;\n",
       "    }\n",
       "</style>\n",
       "<table border=\"1\" class=\"dataframe\">\n",
       "  <thead>\n",
       "    <tr style=\"text-align: right;\">\n",
       "      <th></th>\n",
       "      <th>age</th>\n",
       "      <th>balance</th>\n",
       "      <th>day</th>\n",
       "      <th>duration</th>\n",
       "      <th>campaign</th>\n",
       "      <th>previous</th>\n",
       "      <th>default</th>\n",
       "      <th>housing</th>\n",
       "      <th>loan</th>\n",
       "      <th>y</th>\n",
       "      <th>...</th>\n",
       "      <th>month_Q2</th>\n",
       "      <th>month_Q3</th>\n",
       "      <th>month_Q4</th>\n",
       "      <th>poutcome_failure</th>\n",
       "      <th>poutcome_other</th>\n",
       "      <th>poutcome_success</th>\n",
       "      <th>poutcome_unknown</th>\n",
       "      <th>contact_6m_never</th>\n",
       "      <th>contact_6m_no</th>\n",
       "      <th>contact_6m_yes</th>\n",
       "    </tr>\n",
       "  </thead>\n",
       "  <tbody>\n",
       "    <tr>\n",
       "      <td>0</td>\n",
       "      <td>30</td>\n",
       "      <td>8.537192</td>\n",
       "      <td>19</td>\n",
       "      <td>4.369448</td>\n",
       "      <td>1</td>\n",
       "      <td>0</td>\n",
       "      <td>0</td>\n",
       "      <td>0</td>\n",
       "      <td>0</td>\n",
       "      <td>0</td>\n",
       "      <td>...</td>\n",
       "      <td>0</td>\n",
       "      <td>0</td>\n",
       "      <td>1</td>\n",
       "      <td>0</td>\n",
       "      <td>0</td>\n",
       "      <td>0</td>\n",
       "      <td>1</td>\n",
       "      <td>1</td>\n",
       "      <td>0</td>\n",
       "      <td>0</td>\n",
       "    </tr>\n",
       "    <tr>\n",
       "      <td>1</td>\n",
       "      <td>33</td>\n",
       "      <td>8.999990</td>\n",
       "      <td>11</td>\n",
       "      <td>5.393628</td>\n",
       "      <td>1</td>\n",
       "      <td>4</td>\n",
       "      <td>0</td>\n",
       "      <td>1</td>\n",
       "      <td>1</td>\n",
       "      <td>0</td>\n",
       "      <td>...</td>\n",
       "      <td>1</td>\n",
       "      <td>0</td>\n",
       "      <td>0</td>\n",
       "      <td>1</td>\n",
       "      <td>0</td>\n",
       "      <td>0</td>\n",
       "      <td>0</td>\n",
       "      <td>0</td>\n",
       "      <td>1</td>\n",
       "      <td>0</td>\n",
       "    </tr>\n",
       "    <tr>\n",
       "      <td>2</td>\n",
       "      <td>35</td>\n",
       "      <td>8.447629</td>\n",
       "      <td>16</td>\n",
       "      <td>5.220356</td>\n",
       "      <td>1</td>\n",
       "      <td>1</td>\n",
       "      <td>0</td>\n",
       "      <td>1</td>\n",
       "      <td>0</td>\n",
       "      <td>0</td>\n",
       "      <td>...</td>\n",
       "      <td>1</td>\n",
       "      <td>0</td>\n",
       "      <td>0</td>\n",
       "      <td>1</td>\n",
       "      <td>0</td>\n",
       "      <td>0</td>\n",
       "      <td>0</td>\n",
       "      <td>0</td>\n",
       "      <td>1</td>\n",
       "      <td>0</td>\n",
       "    </tr>\n",
       "    <tr>\n",
       "      <td>3</td>\n",
       "      <td>30</td>\n",
       "      <td>8.474286</td>\n",
       "      <td>3</td>\n",
       "      <td>5.293305</td>\n",
       "      <td>4</td>\n",
       "      <td>0</td>\n",
       "      <td>0</td>\n",
       "      <td>1</td>\n",
       "      <td>1</td>\n",
       "      <td>0</td>\n",
       "      <td>...</td>\n",
       "      <td>1</td>\n",
       "      <td>0</td>\n",
       "      <td>0</td>\n",
       "      <td>0</td>\n",
       "      <td>0</td>\n",
       "      <td>0</td>\n",
       "      <td>1</td>\n",
       "      <td>1</td>\n",
       "      <td>0</td>\n",
       "      <td>0</td>\n",
       "    </tr>\n",
       "    <tr>\n",
       "      <td>4</td>\n",
       "      <td>59</td>\n",
       "      <td>8.105911</td>\n",
       "      <td>5</td>\n",
       "      <td>5.420535</td>\n",
       "      <td>1</td>\n",
       "      <td>0</td>\n",
       "      <td>0</td>\n",
       "      <td>1</td>\n",
       "      <td>0</td>\n",
       "      <td>0</td>\n",
       "      <td>...</td>\n",
       "      <td>1</td>\n",
       "      <td>0</td>\n",
       "      <td>0</td>\n",
       "      <td>0</td>\n",
       "      <td>0</td>\n",
       "      <td>0</td>\n",
       "      <td>1</td>\n",
       "      <td>1</td>\n",
       "      <td>0</td>\n",
       "      <td>0</td>\n",
       "    </tr>\n",
       "  </tbody>\n",
       "</table>\n",
       "<p>5 rows × 43 columns</p>\n",
       "</div>"
      ],
      "text/plain": [
       "   age   balance  day  duration  campaign  previous  default  housing  loan  \\\n",
       "0   30  8.537192   19  4.369448         1         0        0        0     0   \n",
       "1   33  8.999990   11  5.393628         1         4        0        1     1   \n",
       "2   35  8.447629   16  5.220356         1         1        0        1     0   \n",
       "3   30  8.474286    3  5.293305         4         0        0        1     1   \n",
       "4   59  8.105911    5  5.420535         1         0        0        1     0   \n",
       "\n",
       "   y  ...  month_Q2  month_Q3  month_Q4  poutcome_failure  poutcome_other  \\\n",
       "0  0  ...         0         0         1                 0               0   \n",
       "1  0  ...         1         0         0                 1               0   \n",
       "2  0  ...         1         0         0                 1               0   \n",
       "3  0  ...         1         0         0                 0               0   \n",
       "4  0  ...         1         0         0                 0               0   \n",
       "\n",
       "   poutcome_success  poutcome_unknown  contact_6m_never  contact_6m_no  \\\n",
       "0                 0                 1                 1              0   \n",
       "1                 0                 0                 0              1   \n",
       "2                 0                 0                 0              1   \n",
       "3                 0                 1                 1              0   \n",
       "4                 0                 1                 1              0   \n",
       "\n",
       "   contact_6m_yes  \n",
       "0               0  \n",
       "1               0  \n",
       "2               0  \n",
       "3               0  \n",
       "4               0  \n",
       "\n",
       "[5 rows x 43 columns]"
      ]
     },
     "execution_count": 30,
     "metadata": {},
     "output_type": "execute_result"
    }
   ],
   "source": [
    "data_cleaned.head()"
   ]
  },
  {
   "cell_type": "markdown",
   "metadata": {},
   "source": [
    "<p>Now that all the variables are normalized, I will separate the dependent variable from the features:</p>"
   ]
  },
  {
   "cell_type": "code",
   "execution_count": 31,
   "metadata": {},
   "outputs": [],
   "source": [
    "features = data_cleaned.drop([\"y\"], axis=1)\n",
    "label = data_cleaned[\"y\"]"
   ]
  },
  {
   "cell_type": "markdown",
   "metadata": {},
   "source": [
    "## Modelling\n",
    "<p>To meet the goal of this project, i.e. to correctly predict if the client will subscribe to the term deposit or not, I will use few examples of both linear and tree-based classifiers with different settings, trying to choose the one that performs best.</p>\n",
    "<p>Before splitting the data into train and test sets, it is worth to note one problem of the dataset. As we saw in the EDA step, the output variable <i>y</i> is strongly imbalanced. The situation is shown on the pie chart below:</p>"
   ]
  },
  {
   "cell_type": "code",
   "execution_count": 32,
   "metadata": {},
   "outputs": [
    {
     "data": {
      "image/png": "[encoded data removed]",
      "text/plain": [
       "<Figure size 432x288 with 1 Axes>"
      ]
     },
     "metadata": {},
     "output_type": "display_data"
    }
   ],
   "source": [
    "# Here I use the previously created subsets to show the dependent variable imbalance\n",
    "plt.pie([len(data_yes), len(data_no)], explode=(0.1, 0), labels=('Yes', 'No'),\n",
    "        colors=['yellowgreen', 'lightskyblue'], autopct='%1.1f%%', shadow=True, startangle=140)\n",
    " \n",
    "plt.axis('equal')\n",
    "plt.show()"
   ]
  },
  {
   "cell_type": "markdown",
   "metadata": {},
   "source": [
    "<p>Since 88.5% of the outputs is <i>No</i>, it may happen, that during splitting our data, the training set may not \"see\" the <i>Yes</i> records. To project the distribution of the output variable, I will set the <i>stratify</i> parameter to <i>label</i>, which will help with this problem.</p>"
   ]
  },
  {
   "cell_type": "code",
   "execution_count": 33,
   "metadata": {},
   "outputs": [],
   "source": [
    "X_train, X_test, y_train, y_test = train_test_split(features, label, stratify=label, test_size=.3)"
   ]
  },
  {
   "cell_type": "markdown",
   "metadata": {},
   "source": [
    "However, it still doesn't solve the problem. Above mentioned imbalance can make it difficult for the model to approprietly classify the minority label. I therefore use <i>SMOTE</i> method from <i>imblearn.over_sampling</i> module to create synthetic instances of <i>yes</i> label. It will equalize the relation of both classes and will be used only on the training set."
   ]
  },
  {
   "cell_type": "code",
   "execution_count": 34,
   "metadata": {},
   "outputs": [
    {
     "data": {
      "text/plain": [
       "1    2799\n",
       "0    2799\n",
       "Name: label, dtype: int64"
      ]
     },
     "execution_count": 34,
     "metadata": {},
     "output_type": "execute_result"
    }
   ],
   "source": [
    "sm = SMOTE()\n",
    "X_train, y_train = sm.fit_sample(X_train, y_train)\n",
    "\n",
    "y_train_df = pd.DataFrame(y_train, columns = ['label'])\n",
    "y_train_df.label.value_counts()"
   ]
  },
  {
   "cell_type": "markdown",
   "metadata": {},
   "source": [
    "We can see now that both classess have the same number of observations. As it's shown below, the test set still has the same class imbalance."
   ]
  },
  {
   "cell_type": "code",
   "execution_count": 35,
   "metadata": {},
   "outputs": [
    {
     "data": {
      "text/plain": [
       "0    1201\n",
       "1     156\n",
       "Name: y, dtype: int64"
      ]
     },
     "execution_count": 35,
     "metadata": {},
     "output_type": "execute_result"
    }
   ],
   "source": [
    "y_test.value_counts()"
   ]
  },
  {
   "cell_type": "markdown",
   "metadata": {},
   "source": [
    "To measure the performance of the algorithms, I will use the <i>f1_score</i> metric, which takes into account the weighted average of <i>Precision</i> and <i>Recall</i>. The first term is the ratio of correctly predicted positive observations to the total predicted positive observations, while \"recall\" is the ratio of correctly predicted positive observations to the all observations in actual class - yes. The best score that f1 metric can take is 1, while 0 is the worst."
   ]
  },
  {
   "cell_type": "markdown",
   "metadata": {},
   "source": [
    "### Linear classifiers\n",
    "<p>The first group of classifiers is linear and it consists of <b>Logistic Regression</b> and <b>SVM</b>. Due to huge imbalance of the class, I have set the <i>average</i> parameter of f1_score to \"weighted\".</p>"
   ]
  },
  {
   "cell_type": "code",
   "execution_count": 36,
   "metadata": {},
   "outputs": [
    {
     "name": "stdout",
     "output_type": "stream",
     "text": [
      "Logistic Regression f1_score: 0.8300199925192816\n"
     ]
    }
   ],
   "source": [
    "# Logistic Regression with default parameters\n",
    "\n",
    "lr = LogisticRegression()\n",
    "lr.fit(X_train, y_train)\n",
    "y_pred_lr = lr.predict(X_test)\n",
    "\n",
    "print(\"Logistic Regression f1_score:\", f1_score(y_test, y_pred_lr, average='weighted'))"
   ]
  },
  {
   "cell_type": "markdown",
   "metadata": {},
   "source": [
    "Logistic Regression model with default settings achieved f1_score of 0.83. Below is more detailed output, where we can investigate how this model deals with correct classification of both classess."
   ]
  },
  {
   "cell_type": "code",
   "execution_count": 37,
   "metadata": {},
   "outputs": [
    {
     "name": "stdout",
     "output_type": "stream",
     "text": [
      "              precision    recall  f1-score   support\n",
      "\n",
      "           0       0.96      0.81      0.88      1201\n",
      "           1       0.34      0.76      0.47       156\n",
      "\n",
      "    accuracy                           0.80      1357\n",
      "   macro avg       0.65      0.78      0.67      1357\n",
      "weighted avg       0.89      0.80      0.83      1357\n",
      "\n"
     ]
    }
   ],
   "source": [
    "print(classification_report(y_test, y_pred_lr))"
   ]
  },
  {
   "cell_type": "markdown",
   "metadata": {},
   "source": [
    "The interesting fact is that our model was capable to correctly classify <b>76%</b> of class 1 which, taking into account original imbalance of the data, seems to be quite good result. We can see that by looking at the <i>recall</i> value. The Confusion matrix shows more clear output."
   ]
  },
  {
   "cell_type": "code",
   "execution_count": 48,
   "metadata": {},
   "outputs": [
    {
     "data": {
      "image/png": "[encoded data removed]",
      "text/plain": [
       "<Figure size 432x288 with 2 Axes>"
      ]
     },
     "metadata": {
      "needs_background": "light"
     },
     "output_type": "display_data"
    }
   ],
   "source": [
    "conf_mat_lr = confusion_matrix(y_test, y_pred_lr)\n",
    "ax = plt.subplot()\n",
    "sns.heatmap(conf_mat_lr, annot=True, ax=ax, fmt='d')\n",
    "\n",
    "ax.set_xlabel('Predicted labels')\n",
    "ax.set_ylabel('True labels')\n",
    "ax.set_title('Confusion Matrix - Logistic Regression')\n",
    "ax.xaxis.set_ticklabels(['no', 'yes'])\n",
    "ax.yaxis.set_ticklabels(['no', 'yes'])\n",
    "ax.set_ylim([0,2])\n",
    "plt.show()"
   ]
  },
  {
   "cell_type": "markdown",
   "metadata": {},
   "source": [
    "<p>Out of <b>156</b> observations belonging to the class \"yes\" our model correctly classified <b>119</b> of them. Considering the original ratio 88,5% to 11,5%, with this model we are 3 times more successful, as the <i>precission</i>, equal to 0.34, tells us that 34% of \"yes\" predictions are correct.</p>"
   ]
  },
  {
   "cell_type": "markdown",
   "metadata": {},
   "source": [
    "<p>The next alogrithm used is <b>SVM</b>.</p>"
   ]
  },
  {
   "cell_type": "code",
   "execution_count": 40,
   "metadata": {},
   "outputs": [
    {
     "name": "stdout",
     "output_type": "stream",
     "text": [
      "SVM f1_score: 0.8555459330571228\n"
     ]
    }
   ],
   "source": [
    "svm = LinearSVC()\n",
    "svm.fit(X_train, y_train)\n",
    "y_pred_svm = svm.predict(X_test)\n",
    "\n",
    "print(\"SVM f1_score:\", f1_score(y_test, y_pred_svm, average='weighted'))"
   ]
  },
  {
   "cell_type": "markdown",
   "metadata": {},
   "source": [
    "The f1 score is higher than the one achieved by Logistic Regression model."
   ]
  },
  {
   "cell_type": "code",
   "execution_count": 41,
   "metadata": {},
   "outputs": [
    {
     "name": "stdout",
     "output_type": "stream",
     "text": [
      "              precision    recall  f1-score   support\n",
      "\n",
      "           0       0.90      0.98      0.94      1201\n",
      "           1       0.53      0.13      0.21       156\n",
      "\n",
      "    accuracy                           0.89      1357\n",
      "   macro avg       0.71      0.56      0.58      1357\n",
      "weighted avg       0.85      0.89      0.86      1357\n",
      "\n"
     ]
    }
   ],
   "source": [
    "print(classification_report(y_test, y_pred_svm))"
   ]
  },
  {
   "cell_type": "markdown",
   "metadata": {},
   "source": [
    "However, as we can see, the SVM model completely fails when it comes to correctly classify the \"yes\" class and it maximises its f1 metric by correct filtering the \"no\" label."
   ]
  },
  {
   "cell_type": "code",
   "execution_count": 47,
   "metadata": {},
   "outputs": [
    {
     "data": {
      "image/png": "[encoded data removed]",
      "text/plain": [
       "<Figure size 432x288 with 2 Axes>"
      ]
     },
     "metadata": {
      "needs_background": "light"
     },
     "output_type": "display_data"
    }
   ],
   "source": [
    "conf_mat_svm = confusion_matrix(y_test, y_pred_svm)\n",
    "ax = plt.subplot()\n",
    "sns.heatmap(conf_mat_svm, annot=True, ax=ax, fmt='d')\n",
    "\n",
    "ax.set_xlabel('Predicted labels')\n",
    "ax.set_ylabel('True labels')\n",
    "ax.set_title('Confusion Matrix - SVM')\n",
    "ax.xaxis.set_ticklabels(['no', 'yes'])\n",
    "ax.yaxis.set_ticklabels(['no', 'yes'])\n",
    "ax.set_ylim([0,2])\n",
    "plt.show()"
   ]
  },
  {
   "cell_type": "markdown",
   "metadata": {},
   "source": [
    "As shown above, only 21 out of 156 \"yes\" labels were detected."
   ]
  },
  {
   "cell_type": "markdown",
   "metadata": {},
   "source": [
    "Our first result induces to take a try at tuning our model to get even better results. Here I am going to tune the model using GridSearchCV to find the best combination of hyperparameters."
   ]
  },
  {
   "cell_type": "code",
   "execution_count": 50,
   "metadata": {},
   "outputs": [
    {
     "data": {
      "text/plain": [
       "{'C': 10, 'penalty': 'l1'}"
      ]
     },
     "execution_count": 50,
     "metadata": {},
     "output_type": "execute_result"
    }
   ],
   "source": [
    "param_grid_lr2 = {'C': [0.001, 0.01, 0.1, 1, 10, 100, 200, 300, 400],\n",
    "             'penalty': ['l1', 'l2']}\n",
    "\n",
    "grid_lr2 = GridSearchCV(LogisticRegression(), param_grid_lr2, cv=5, return_train_score=True)\n",
    "\n",
    "grid_lr2.fit(X_train, y_train)\n",
    "grid_lr2.best_params_"
   ]
  },
  {
   "cell_type": "code",
   "execution_count": 52,
   "metadata": {},
   "outputs": [
    {
     "name": "stdout",
     "output_type": "stream",
     "text": [
      "Logistic Regression f1_score: 0.8307176238191446\n"
     ]
    }
   ],
   "source": [
    "lr2 = LogisticRegression(C=10, penalty='l1')\n",
    "\n",
    "lr2.fit(X_train, y_train)\n",
    "y_pred_lr2 = lr2.predict(X_test)\n",
    "\n",
    "print(\"Logistic Regression f1_score:\", f1_score(y_test, y_pred_lr2, average='weighted'))"
   ]
  },
  {
   "cell_type": "code",
   "execution_count": 53,
   "metadata": {},
   "outputs": [
    {
     "name": "stdout",
     "output_type": "stream",
     "text": [
      "              precision    recall  f1-score   support\n",
      "\n",
      "           0       0.96      0.81      0.88      1201\n",
      "           1       0.34      0.77      0.47       156\n",
      "\n",
      "    accuracy                           0.80      1357\n",
      "   macro avg       0.65      0.79      0.67      1357\n",
      "weighted avg       0.89      0.80      0.83      1357\n",
      "\n"
     ]
    }
   ],
   "source": [
    "print(classification_report(y_test, y_pred_lr2))"
   ]
  },
  {
   "cell_type": "markdown",
   "metadata": {},
   "source": [
    "<p>Tuning Logistic Regression model did not help a lot. It's a bit better in detecting positive label than our first model.</p>"
   ]
  },
  {
   "cell_type": "markdown",
   "metadata": {},
   "source": [
    "### Tree-based classifiers\n",
    "<p>The next set of models consists of Tree-based classifiers such as Decision Tree and Random Forest. For all of the models I will perform tuning in order to find the most accurate model.</p>"
   ]
  },
  {
   "cell_type": "code",
   "execution_count": 54,
   "metadata": {},
   "outputs": [
    {
     "name": "stdout",
     "output_type": "stream",
     "text": [
      "Best hyperparameters:\n",
      " {'class_weight': 'balanced', 'max_depth': 12, 'max_features': 0.6, 'min_samples_leaf': 0.005}\n",
      "Best f1_score 0.865816468296371\n"
     ]
    }
   ],
   "source": [
    "dt = DecisionTreeClassifier()\n",
    "\n",
    "params_dt = {\n",
    "        'max_depth': range(3, 18, 3),\n",
    "        'min_samples_leaf': [0.005, 0.01, 0.02],\n",
    "        'max_features': [0.2, 0.4,0.6, 0.8],\n",
    "        'class_weight': ['balanced']\n",
    "            }\n",
    "grid_dt = GridSearchCV(estimator=dt,\n",
    "                    param_grid=params_dt,\n",
    "                    scoring='f1_weighted',\n",
    "                    cv=10,\n",
    "                    n_jobs=-1)\n",
    "\n",
    "grid_dt.fit(X_train, y_train)\n",
    "y_pred_dt = grid_dt.best_estimator_.predict(X_test)\n",
    "best_hyperparams = grid_dt.best_params_\n",
    "\n",
    "print('Best hyperparameters:\\n', best_hyperparams)\n",
    "print('Best f1_score', f1_score(y_test, y_pred_dt, average='weighted'))"
   ]
  },
  {
   "cell_type": "code",
   "execution_count": 55,
   "metadata": {},
   "outputs": [
    {
     "name": "stdout",
     "output_type": "stream",
     "text": [
      "              precision    recall  f1-score   support\n",
      "\n",
      "           0       0.93      0.92      0.92      1201\n",
      "           1       0.41      0.46      0.43       156\n",
      "\n",
      "    accuracy                           0.86      1357\n",
      "   macro avg       0.67      0.69      0.68      1357\n",
      "weighted avg       0.87      0.86      0.87      1357\n",
      "\n"
     ]
    }
   ],
   "source": [
    "print(classification_report(y_test, y_pred_dt))"
   ]
  },
  {
   "cell_type": "markdown",
   "metadata": {},
   "source": [
    "<p>Comparing to previous 3 models, the f1_score achieved by Decision Tree is the highest. Unfortunately, it's worse in correct classification of \"yes\" class.</p>"
   ]
  },
  {
   "cell_type": "code",
   "execution_count": 56,
   "metadata": {},
   "outputs": [
    {
     "name": "stdout",
     "output_type": "stream",
     "text": [
      "Fitting 5 folds for each of 96 candidates, totalling 480 fits\n"
     ]
    },
    {
     "name": "stderr",
     "output_type": "stream",
     "text": [
      "[Parallel(n_jobs=-1)]: Using backend LokyBackend with 4 concurrent workers.\n",
      "[Parallel(n_jobs=-1)]: Done  42 tasks      | elapsed:   14.5s\n",
      "[Parallel(n_jobs=-1)]: Done 192 tasks      | elapsed:  1.3min\n",
      "[Parallel(n_jobs=-1)]: Done 442 tasks      | elapsed:  3.2min\n",
      "[Parallel(n_jobs=-1)]: Done 480 out of 480 | elapsed:  3.6min finished\n"
     ]
    },
    {
     "name": "stdout",
     "output_type": "stream",
     "text": [
      "Best hyperparameters:\n",
      " {'class_weight': 'balanced', 'max_depth': 12, 'max_features': 'sqrt', 'min_samples_leaf': 0.0005, 'n_estimators': 50}\n",
      "f1_score on best estimator 0.8716457122677054\n"
     ]
    }
   ],
   "source": [
    "rfc = RandomForestClassifier()\n",
    "\n",
    "params_rfc = {\n",
    "            'n_estimators': [50, 100, 200, 500],\n",
    "            'max_depth': range(6, 15, 3),\n",
    "            'min_samples_leaf': [0.0005, 0.001, 0.005, 0.01],\n",
    "            'max_features': ['log2', 'sqrt'],\n",
    "            'class_weight': ['balanced']\n",
    "            }\n",
    "\n",
    "grid_rfc = GridSearchCV(estimator=rfc,\n",
    "            param_grid=params_rfc,\n",
    "            cv=5,\n",
    "            scoring='f1_weighted',\n",
    "            verbose=1,\n",
    "            n_jobs=-1)\n",
    "\n",
    "grid_rfc.fit(X_train, y_train)\n",
    "y_pred_rfc = grid_rfc.best_estimator_.predict(X_test)\n",
    "best_hyperparams_rfc = grid_rfc.best_params_\n",
    "\n",
    "\n",
    "print('Best hyperparameters:\\n', best_hyperparams_rfc)\n",
    "print('f1_score on best estimator', f1_score(y_test, y_pred_rfc, average='weighted'))"
   ]
  },
  {
   "cell_type": "code",
   "execution_count": 57,
   "metadata": {},
   "outputs": [
    {
     "name": "stdout",
     "output_type": "stream",
     "text": [
      "              precision    recall  f1-score   support\n",
      "\n",
      "           0       0.91      0.96      0.94      1201\n",
      "           1       0.49      0.31      0.38       156\n",
      "\n",
      "    accuracy                           0.88      1357\n",
      "   macro avg       0.70      0.63      0.66      1357\n",
      "weighted avg       0.87      0.88      0.87      1357\n",
      "\n"
     ]
    }
   ],
   "source": [
    "print(classification_report(y_test, y_pred_rfc))"
   ]
  },
  {
   "cell_type": "markdown",
   "metadata": {},
   "source": [
    "<p>Random Forest achieved even higher f1 result. As we can see, it's better in detecting \"no\" label than Decision Tree and worse in classifying the other class.</p>"
   ]
  },
  {
   "cell_type": "markdown",
   "metadata": {},
   "source": [
    "Being a bank that is offering a term deposit for their clients, we may want be better at correct classification of \"yes\" label, since losing such opportunity is much more \"expensive\" for us than calling a client, that won't eventually subscribe to our offer. I will therefore change the scorring to \"recall\" for the next 2 models to see if we can get better at this."
   ]
  },
  {
   "cell_type": "code",
   "execution_count": 60,
   "metadata": {},
   "outputs": [
    {
     "name": "stdout",
     "output_type": "stream",
     "text": [
      "Best hyperparameters:\n",
      " {'class_weight': 'balanced', 'max_depth': 3, 'max_features': 0.8, 'min_samples_leaf': 0.01}\n",
      "Best f1_score 0.8020388851353664\n"
     ]
    }
   ],
   "source": [
    "dt2 = DecisionTreeClassifier()\n",
    "\n",
    "params_dt2 = {\n",
    "        'max_depth': range(3, 18, 3),\n",
    "        'min_samples_leaf': [0.005, 0.01, 0.02],\n",
    "        'max_features': [0.2, 0.4,0.6, 0.8],\n",
    "        'class_weight': ['balanced']\n",
    "            }\n",
    "grid_dt2 = GridSearchCV(estimator=dt2,\n",
    "                    param_grid=params_dt2,\n",
    "                    scoring='recall',\n",
    "                    cv=10,\n",
    "                    n_jobs=-1)\n",
    "\n",
    "grid_dt2.fit(X_train, y_train)\n",
    "y_pred_dt2 = grid_dt2.best_estimator_.predict(X_test)\n",
    "best_hyperparams = grid_dt2.best_params_\n",
    "\n",
    "print('Best hyperparameters:\\n', best_hyperparams)\n",
    "print('Best f1_score', f1_score(y_test, y_pred_dt2, average='weighted'))"
   ]
  },
  {
   "cell_type": "code",
   "execution_count": 61,
   "metadata": {
    "scrolled": true
   },
   "outputs": [
    {
     "name": "stdout",
     "output_type": "stream",
     "text": [
      "              precision    recall  f1-score   support\n",
      "\n",
      "           0       0.96      0.76      0.85      1201\n",
      "           1       0.29      0.76      0.42       156\n",
      "\n",
      "    accuracy                           0.76      1357\n",
      "   macro avg       0.63      0.76      0.64      1357\n",
      "weighted avg       0.88      0.76      0.80      1357\n",
      "\n"
     ]
    }
   ],
   "source": [
    "print(classification_report(y_test, y_pred_dt2))"
   ]
  },
  {
   "cell_type": "code",
   "execution_count": 65,
   "metadata": {
    "scrolled": true
   },
   "outputs": [
    {
     "name": "stdout",
     "output_type": "stream",
     "text": [
      "[[918 283]\n",
      " [ 38 118]]\n"
     ]
    }
   ],
   "source": [
    "print(confusion_matrix(y_test, y_pred_dt2))"
   ]
  },
  {
   "cell_type": "markdown",
   "metadata": {},
   "source": [
    "As we can see, the Decision Tree model achieved lower f1 score. However, we are now detecting 76% of all the clients that will agree to our offer. The algorithm is now more likely to classify an observation as \"yes\", which, on the other hand, poses a bigger effort to us to call all of them."
   ]
  },
  {
   "cell_type": "code",
   "execution_count": 62,
   "metadata": {},
   "outputs": [
    {
     "name": "stdout",
     "output_type": "stream",
     "text": [
      "Fitting 5 folds for each of 96 candidates, totalling 480 fits\n"
     ]
    },
    {
     "name": "stderr",
     "output_type": "stream",
     "text": [
      "[Parallel(n_jobs=-1)]: Using backend LokyBackend with 4 concurrent workers.\n",
      "[Parallel(n_jobs=-1)]: Done  42 tasks      | elapsed:   15.5s\n",
      "[Parallel(n_jobs=-1)]: Done 192 tasks      | elapsed:  1.7min\n",
      "[Parallel(n_jobs=-1)]: Done 442 tasks      | elapsed:  4.1min\n",
      "[Parallel(n_jobs=-1)]: Done 480 out of 480 | elapsed:  4.4min finished\n"
     ]
    },
    {
     "name": "stdout",
     "output_type": "stream",
     "text": [
      "Best hyperparameters:\n",
      " {'class_weight': 'balanced', 'max_depth': 6, 'max_features': 'sqrt', 'min_samples_leaf': 0.0005, 'n_estimators': 200}\n",
      "f1_score on best estimator 0.8682579315450171\n"
     ]
    }
   ],
   "source": [
    "rfc2 = RandomForestClassifier()\n",
    "\n",
    "params_rfc2 = {\n",
    "            'n_estimators': [50, 100, 200, 500],\n",
    "            'max_depth': range(6, 15, 3),\n",
    "            'min_samples_leaf': [0.0005, 0.001, 0.005, 0.01],\n",
    "            'max_features': ['log2', 'sqrt'],\n",
    "            'class_weight': ['balanced']\n",
    "            }\n",
    "\n",
    "grid_rfc2 = GridSearchCV(estimator=rfc2,\n",
    "            param_grid=params_rfc2,\n",
    "            cv=5,\n",
    "            scoring='recall',\n",
    "            verbose=1,\n",
    "            n_jobs=-1)\n",
    "\n",
    "grid_rfc2.fit(X_train, y_train)\n",
    "y_pred_rfc2 = grid_rfc2.best_estimator_.predict(X_test)\n",
    "best_hyperparams_rfc2 = grid_rfc2.best_params_\n",
    "\n",
    "\n",
    "print('Best hyperparameters:\\n', best_hyperparams_rfc2)\n",
    "print('f1_score on best estimator', f1_score(y_test, y_pred_rfc2, average='weighted'))"
   ]
  },
  {
   "cell_type": "code",
   "execution_count": 63,
   "metadata": {},
   "outputs": [
    {
     "name": "stdout",
     "output_type": "stream",
     "text": [
      "              precision    recall  f1-score   support\n",
      "\n",
      "           0       0.92      0.93      0.93      1201\n",
      "           1       0.43      0.41      0.42       156\n",
      "\n",
      "    accuracy                           0.87      1357\n",
      "   macro avg       0.68      0.67      0.67      1357\n",
      "weighted avg       0.87      0.87      0.87      1357\n",
      "\n"
     ]
    }
   ],
   "source": [
    "print(classification_report(y_test, y_pred_rfc2))"
   ]
  },
  {
   "cell_type": "code",
   "execution_count": 64,
   "metadata": {},
   "outputs": [
    {
     "name": "stdout",
     "output_type": "stream",
     "text": [
      "[[1116   85]\n",
      " [  92   64]]\n"
     ]
    }
   ],
   "source": [
    "print(confusion_matrix(y_test, y_pred_rfc2))"
   ]
  },
  {
   "cell_type": "markdown",
   "metadata": {},
   "source": [
    "<p>Random Forest has similar score for f1 metric and 43% of its \"yes\" predictions are correct. Unfortunately, we're missing 85 out of 156 clients that would subscribe to the bank's offer.</p>"
   ]
  },
  {
   "cell_type": "markdown",
   "metadata": {},
   "source": [
    "## Summary"
   ]
  },
  {
   "cell_type": "markdown",
   "metadata": {},
   "source": [
    "<p>Based on the presented models, we see that various algorithms can be characterized by different efficiency on a given data set. Choosing the best of them is not an obvious task, because their quality depends on the goal we want to achieve. The highest value of f1 metric was achieved by the <b>Random Forest</b> classifier. However, depending on the situation, we may not always consider it as the best model.</p>\n",
    "<p>The bank can proceed in two ways. With large staff resources and low operational costs, the organization would probably choose the <b>Logistic Regression</b> or <b>Decision Tree</b> model, as both provided the highest effectiveness in terms of the number of customers who actually subscribed to the offer. However, if the bank wanted to reduce the amount of work and optimise the \"contact-agreement\" ratio, above mentioned Random Forest model, with <i>precision</i> value of 0.49, could be more profitable, as it means that half of the clients contacted by the bank would agree to make a term deposit.</p>"
   ]
  }
 ],
 "metadata": {
  "kernelspec": {
   "display_name": "Python 3",
   "language": "python",
   "name": "python3"
  },
  "language_info": {
   "codemirror_mode": {
    "name": "ipython",
    "version": 3
   },
   "file_extension": ".py",
   "mimetype": "text/x-python",
   "name": "python",
   "nbconvert_exporter": "python",
   "pygments_lexer": "ipython3",
   "version": "3.7.4"
  }
 },
 "nbformat": 4,
 "nbformat_minor": 2
}
